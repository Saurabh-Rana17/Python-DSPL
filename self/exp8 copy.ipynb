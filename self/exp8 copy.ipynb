{
 "cells": [
  {
   "cell_type": "code",
   "execution_count": 38,
   "metadata": {},
   "outputs": [
    {
     "data": {
      "text/html": [
       "<div>\n",
       "<style scoped>\n",
       "    .dataframe tbody tr th:only-of-type {\n",
       "        vertical-align: middle;\n",
       "    }\n",
       "\n",
       "    .dataframe tbody tr th {\n",
       "        vertical-align: top;\n",
       "    }\n",
       "\n",
       "    .dataframe thead th {\n",
       "        text-align: right;\n",
       "    }\n",
       "</style>\n",
       "<table border=\"1\" class=\"dataframe\">\n",
       "  <thead>\n",
       "    <tr style=\"text-align: right;\">\n",
       "      <th></th>\n",
       "      <th>car_name</th>\n",
       "      <th>car_prices_in_rupee</th>\n",
       "      <th>kms_driven</th>\n",
       "      <th>fuel_type</th>\n",
       "      <th>transmission</th>\n",
       "      <th>ownership</th>\n",
       "      <th>manufacture</th>\n",
       "      <th>engine</th>\n",
       "      <th>Seats</th>\n",
       "      <th>zscore</th>\n",
       "    </tr>\n",
       "  </thead>\n",
       "  <tbody>\n",
       "    <tr>\n",
       "      <th>0</th>\n",
       "      <td>Jeep Compass 2.0 Longitude Option BSIV</td>\n",
       "      <td>10.03</td>\n",
       "      <td>0.468244</td>\n",
       "      <td>0</td>\n",
       "      <td>1</td>\n",
       "      <td>1</td>\n",
       "      <td>0.485874</td>\n",
       "      <td>0.829074</td>\n",
       "      <td>-0.348423</td>\n",
       "      <td>-0.083515</td>\n",
       "    </tr>\n",
       "    <tr>\n",
       "      <th>1</th>\n",
       "      <td>Renault Duster RXZ Turbo CVT</td>\n",
       "      <td>12.83</td>\n",
       "      <td>-1.246126</td>\n",
       "      <td>1</td>\n",
       "      <td>0</td>\n",
       "      <td>1</td>\n",
       "      <td>1.539752</td>\n",
       "      <td>-0.296682</td>\n",
       "      <td>-0.348423</td>\n",
       "      <td>0.058409</td>\n",
       "    </tr>\n",
       "    <tr>\n",
       "      <th>2</th>\n",
       "      <td>Toyota Camry 2.5 G</td>\n",
       "      <td>16.40</td>\n",
       "      <td>-0.139789</td>\n",
       "      <td>1</td>\n",
       "      <td>0</td>\n",
       "      <td>1</td>\n",
       "      <td>0.222405</td>\n",
       "      <td>1.796576</td>\n",
       "      <td>-0.348423</td>\n",
       "      <td>0.239361</td>\n",
       "    </tr>\n",
       "    <tr>\n",
       "      <th>3</th>\n",
       "      <td>Volkswagen Polo 1.2 MPI Highline</td>\n",
       "      <td>5.15</td>\n",
       "      <td>0.073303</td>\n",
       "      <td>1</td>\n",
       "      <td>1</td>\n",
       "      <td>1</td>\n",
       "      <td>0.222405</td>\n",
       "      <td>-0.532264</td>\n",
       "      <td>-0.348423</td>\n",
       "      <td>-0.330867</td>\n",
       "    </tr>\n",
       "    <tr>\n",
       "      <th>4</th>\n",
       "      <td>Volkswagen Vento 1.2 TSI Highline AT</td>\n",
       "      <td>7.66</td>\n",
       "      <td>-0.389364</td>\n",
       "      <td>1</td>\n",
       "      <td>0</td>\n",
       "      <td>1</td>\n",
       "      <td>0.485874</td>\n",
       "      <td>-0.535860</td>\n",
       "      <td>-0.348423</td>\n",
       "      <td>-0.203643</td>\n",
       "    </tr>\n",
       "  </tbody>\n",
       "</table>\n",
       "</div>"
      ],
      "text/plain": [
       "                                 car_name  car_prices_in_rupee  kms_driven  \\\n",
       "0  Jeep Compass 2.0 Longitude Option BSIV                10.03    0.468244   \n",
       "1            Renault Duster RXZ Turbo CVT                12.83   -1.246126   \n",
       "2                      Toyota Camry 2.5 G                16.40   -0.139789   \n",
       "3        Volkswagen Polo 1.2 MPI Highline                 5.15    0.073303   \n",
       "4    Volkswagen Vento 1.2 TSI Highline AT                 7.66   -0.389364   \n",
       "\n",
       "   fuel_type  transmission  ownership  manufacture    engine     Seats  \\\n",
       "0          0             1          1     0.485874  0.829074 -0.348423   \n",
       "1          1             0          1     1.539752 -0.296682 -0.348423   \n",
       "2          1             0          1     0.222405  1.796576 -0.348423   \n",
       "3          1             1          1     0.222405 -0.532264 -0.348423   \n",
       "4          1             0          1     0.485874 -0.535860 -0.348423   \n",
       "\n",
       "     zscore  \n",
       "0 -0.083515  \n",
       "1  0.058409  \n",
       "2  0.239361  \n",
       "3 -0.330867  \n",
       "4 -0.203643  "
      ]
     },
     "execution_count": 38,
     "metadata": {},
     "output_type": "execute_result"
    }
   ],
   "source": [
    "import warnings\n",
    "warnings.filterwarnings('ignore')\n",
    "data = pd.read_csv('../clean7_car_price.csv')\n",
    "data.head()\n"
   ]
  },
  {
   "cell_type": "code",
   "execution_count": 39,
   "metadata": {},
   "outputs": [
    {
     "name": "stdout",
     "output_type": "stream",
     "text": [
      "Mean Squared Error: 8.369012013302992\n",
      "Root Mean Squared Error: 2.892924474178853\n",
      "Mean Absolute Error: 2.1072191665585907\n",
      "R-squared: 0.5662986352800616\n"
     ]
    }
   ],
   "source": [
    "# Import necessary libraries\n",
    "import pandas as pd\n",
    "from sklearn.model_selection import train_test_split\n",
    "from sklearn.linear_model import LinearRegression\n",
    "from sklearn.metrics import mean_squared_error, mean_absolute_error\n",
    "\n",
    "# Load the dataset\n",
    "\n",
    "# Drop unnecessary columns (like index or irrelevant features)\n",
    "data.drop([ 'car_name','zscore'], axis=1, inplace=True)\n",
    "\n",
    "# Split the data into features and target variable\n",
    "X = data[['engine', 'manufacture','Seats','kms_driven','ownership','fuel_type','transmission']]\n",
    "\n",
    "y = data['car_prices_in_rupee']\n",
    "\n",
    "# Split data into train and test sets\n",
    "X_train, X_test, y_train, y_test = train_test_split(X, y, test_size=0.2, random_state=42)\n",
    "\n",
    "# Initialize the Linear Regression model\n",
    "model = LinearRegression()\n",
    "\n",
    "# Train the model\n",
    "model.fit(X_train, y_train)\n",
    "\n",
    "# Make predictions on the test set\n",
    "predictions = model.predict(X_test)\n",
    "\n",
    "# Evaluate the model\n",
    "mse = mean_squared_error(y_test, predictions)\n",
    "rmse = mean_squared_error(y_test, predictions, squared=False)\n",
    "mae = mean_absolute_error(y_test, predictions)\n",
    "\n",
    "print(\"Mean Squared Error:\", mse)\n",
    "print(\"Root Mean Squared Error:\", rmse)\n",
    "print(\"Mean Absolute Error:\", mae)\n",
    "\n",
    "import matplotlib.pyplot as plt\n",
    "\n",
    "\n",
    "# Get R-squared value\n",
    "r_squared = model.score(X_test, y_test)\n",
    "print(\"R-squared:\", r_squared)\n",
    "\n",
    "\n"
   ]
  },
  {
   "cell_type": "code",
   "execution_count": 40,
   "metadata": {},
   "outputs": [
    {
     "name": "stdout",
     "output_type": "stream",
     "text": [
      "Percentage of predictions within ±5=% of actual prices: 72.17%\n"
     ]
    }
   ],
   "source": [
    "import numpy as np\n",
    "\n",
    "# Define a tolerance level (e.g., ±8% of the actual price)\n",
    "tolerance = 0.5\n",
    "\n",
    "# Calculate the absolute percentage error for each prediction\n",
    "absolute_percentage_error = np.abs(predictions - y_test) / y_test\n",
    "\n",
    "# Calculate the percentage of predictions within the tolerance\n",
    "percentage_within_tolerance = np.mean(absolute_percentage_error <= tolerance) * 100\n",
    "\n",
    "print(\"Percentage of predictions within ±5=% of actual prices: {:.2f}%\".format( percentage_within_tolerance))\n"
   ]
  },
  {
   "cell_type": "code",
   "execution_count": 50,
   "metadata": {},
   "outputs": [
    {
     "name": "stdout",
     "output_type": "stream",
     "text": [
      "Mean Squared Error: 7.4005543637383155\n",
      "R^2 Score: 0.6164863281190751\n"
     ]
    }
   ],
   "source": [
    "import pandas as pd\n",
    "from sklearn.model_selection import train_test_split\n",
    "from sklearn.ensemble import RandomForestRegressor\n",
    "from sklearn.metrics import mean_squared_error, r2_score\n",
    "\n",
    "# Load the dataset\n",
    "data = pd.read_csv(\"./clean6_car_price.csv\")\n",
    "\n",
    "# Split the data into features (X) and target variable (y)\n",
    "X = data.drop(columns=[\"car_name\", \"car_prices_in_rupee\",'zscore'])\n",
    "y = data[\"car_prices_in_rupee\"]\n",
    "\n",
    "# Split the data into training and testing sets\n",
    "X_train, X_test, y_train, y_test = train_test_split(X, y, test_size=0.2, random_state=42)\n",
    "\n",
    "# Train the Random Forest Regression model\n",
    "rf_model = RandomForestRegressor(random_state=42)\n",
    "rf_model.fit(X_train, y_train)\n",
    "\n",
    "# Make predictions on the test set\n",
    "y_pred = rf_model.predict(X_test)\n",
    "\n",
    "# Evaluate the model\n",
    "mse = mean_squared_error(y_test, y_pred)\n",
    "r2 = r2_score(y_test, y_pred)\n",
    "print(\"Mean Squared Error:\", mse)\n",
    "print(\"R^2 Score:\", r2)\n"
   ]
  },
  {
   "cell_type": "code",
   "execution_count": 51,
   "metadata": {},
   "outputs": [
    {
     "name": "stdout",
     "output_type": "stream",
     "text": [
      "Percentage of predictions within ±5=% of actual prices: 77.47%\n"
     ]
    }
   ],
   "source": [
    "import numpy as np\n",
    "\n",
    "# Define a tolerance level (e.g., ±8% of the actual price)\n",
    "tolerance = 0.5\n",
    "\n",
    "# Calculate the absolute percentage error for each prediction\n",
    "absolute_percentage_error = np.abs(y_pred - y_test) / y_test\n",
    "\n",
    "# Calculate the percentage of predictions within the tolerance\n",
    "percentage_within_tolerance = np.mean(absolute_percentage_error <= tolerance) * 100\n",
    "\n",
    "print(\"Percentage of predictions within ±5=% of actual prices: {:.2f}%\".format( percentage_within_tolerance))\n"
   ]
  },
  {
   "cell_type": "code",
   "execution_count": 52,
   "metadata": {},
   "outputs": [
    {
     "name": "stdout",
     "output_type": "stream",
     "text": [
      "SVR - Mean Squared Error: 7.962581251506313\n",
      "SVR - R^2 Score: 0.5873608079445523\n"
     ]
    }
   ],
   "source": [
    "from sklearn.svm import SVR\n",
    "from sklearn.preprocessing import StandardScaler\n",
    "from sklearn.pipeline import make_pipeline\n",
    "\n",
    "# Create a pipeline with standardization and SVR\n",
    "svr_model = make_pipeline(StandardScaler(), SVR())\n",
    "\n",
    "# Train the SVR model\n",
    "svr_model.fit(X_train, y_train)\n",
    "\n",
    "# Make predictions\n",
    "y_pred_svr = svr_model.predict(X_test)\n",
    "\n",
    "# Evaluate the model\n",
    "mse_svr = mean_squared_error(y_test, y_pred_svr)\n",
    "r2_svr = r2_score(y_test, y_pred_svr)\n",
    "print(\"SVR - Mean Squared Error:\", mse_svr)\n",
    "print(\"SVR - R^2 Score:\", r2_svr)\n"
   ]
  },
  {
   "cell_type": "code",
   "execution_count": 53,
   "metadata": {},
   "outputs": [
    {
     "name": "stdout",
     "output_type": "stream",
     "text": [
      "Percentage of predictions within ±5=% of actual prices: 81.52%\n"
     ]
    }
   ],
   "source": [
    "import numpy as np\n",
    "\n",
    "# Define a tolerance level (e.g., ±8% of the actual price)\n",
    "tolerance = 0.5\n",
    "\n",
    "# Calculate the absolute percentage error for each prediction\n",
    "absolute_percentage_error = np.abs(y_pred_svr - y_test) / y_test\n",
    "\n",
    "# Calculate the percentage of predictions within the tolerance\n",
    "percentage_within_tolerance = np.mean(absolute_percentage_error <= tolerance) * 100\n",
    "\n",
    "print(\"Percentage of predictions within ±5=% of actual prices: {:.2f}%\".format( percentage_within_tolerance))\n"
   ]
  },
  {
   "cell_type": "code",
   "execution_count": null,
   "metadata": {},
   "outputs": [],
   "source": []
  }
 ],
 "metadata": {
  "kernelspec": {
   "display_name": "Python 3",
   "language": "python",
   "name": "python3"
  },
  "language_info": {
   "codemirror_mode": {
    "name": "ipython",
    "version": 3
   },
   "file_extension": ".py",
   "mimetype": "text/x-python",
   "name": "python",
   "nbconvert_exporter": "python",
   "pygments_lexer": "ipython3",
   "version": "3.12.2"
  }
 },
 "nbformat": 4,
 "nbformat_minor": 2
}
