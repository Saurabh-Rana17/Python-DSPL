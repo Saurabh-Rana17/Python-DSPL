{
 "cells": [
  {
   "cell_type": "code",
   "execution_count": 2,
   "id": "17f36e24",
   "metadata": {},
   "outputs": [],
   "source": [
    "#Import dependencies \n",
    "import seaborn as sns\n",
    "import matplotlib.pyplot as plt \n",
    "import pandas as pd"
   ]
  },
  {
   "cell_type": "code",
   "execution_count": 3,
   "id": "653fbc07",
   "metadata": {},
   "outputs": [],
   "source": [
    "df = pd.read_csv(\"datasetForExp2AndExp3.csv\") \n",
    "df1 = df"
   ]
  },
  {
   "cell_type": "code",
   "execution_count": 4,
   "id": "4159693a",
   "metadata": {},
   "outputs": [
    {
     "name": "stdout",
     "output_type": "stream",
     "text": [
      "<class 'pandas.core.frame.DataFrame'>\n",
      "RangeIndex: 10998 entries, 0 to 10997\n",
      "Data columns (total 9 columns):\n",
      " #   Column                 Non-Null Count  Dtype  \n",
      "---  ------                 --------------  -----  \n",
      " 0   Date                   0 non-null      float64\n",
      " 1   Time                   10998 non-null  object \n",
      " 2   Global_active_power    10996 non-null  float64\n",
      " 3   Global_reactive_power  10996 non-null  float64\n",
      " 4   Voltage                10996 non-null  float64\n",
      " 5   Global_intensity       10998 non-null  object \n",
      " 6   Sub_metering_1         10998 non-null  object \n",
      " 7   Sub_metering_2         10998 non-null  object \n",
      " 8   Sub_metering_3         10996 non-null  float64\n",
      "dtypes: float64(5), object(4)\n",
      "memory usage: 773.4+ KB\n"
     ]
    }
   ],
   "source": [
    "df1.info()"
   ]
  },
  {
   "cell_type": "code",
   "execution_count": 5,
   "id": "acbc3145",
   "metadata": {},
   "outputs": [
    {
     "name": "stdout",
     "output_type": "stream",
     "text": [
      "Figure(1000x400)\n"
     ]
    },
    {
     "data": {
      "text/plain": [
       "<Axes: xlabel='Voltage'>"
      ]
     },
     "execution_count": 5,
     "metadata": {},
     "output_type": "execute_result"
    },
    {
     "data": {
      "image/png": "[encoded data removed]",
      "text/plain": [
       "<Figure size 1000x400 with 1 Axes>"
      ]
     },
     "metadata": {},
     "output_type": "display_data"
    }
   ],
   "source": [
    "#Checking outliers using boxplot\n",
    "print(plt.figure(figsize = (10, 4), dpi = 100)) \n",
    "sns.boxplot(x = \"Voltage\", data = df1)"
   ]
  },
  {
   "cell_type": "code",
   "execution_count": 6,
   "id": "2a33366e",
   "metadata": {},
   "outputs": [],
   "source": [
    "# finding IQR\n",
    "percentile25 = df1['Voltage'].quantile(0.25)\n",
    "percentile75 = df1['Voltage'].quantile(0.75)\n",
    "iqr = percentile75 - percentile25"
   ]
  },
  {
   "cell_type": "code",
   "execution_count": 7,
   "id": "96e63782",
   "metadata": {},
   "outputs": [],
   "source": [
    "# finding upper and lower limit\n",
    "upper_limit = percentile75 + 1.5 * iqr\n",
    "lower_limit = percentile25 - 1.5 * iqr"
   ]
  },
  {
   "cell_type": "code",
   "execution_count": 8,
   "id": "ff0f495d",
   "metadata": {},
   "outputs": [
    {
     "data": {
      "text/html": [
       "<div>\n",
       "<style scoped>\n",
       "    .dataframe tbody tr th:only-of-type {\n",
       "        vertical-align: middle;\n",
       "    }\n",
       "\n",
       "    .dataframe tbody tr th {\n",
       "        vertical-align: top;\n",
       "    }\n",
       "\n",
       "    .dataframe thead th {\n",
       "        text-align: right;\n",
       "    }\n",
       "</style>\n",
       "<table border=\"1\" class=\"dataframe\">\n",
       "  <thead>\n",
       "    <tr style=\"text-align: right;\">\n",
       "      <th></th>\n",
       "      <th>Date</th>\n",
       "      <th>Time</th>\n",
       "      <th>Global_active_power</th>\n",
       "      <th>Global_reactive_power</th>\n",
       "      <th>Voltage</th>\n",
       "      <th>Global_intensity</th>\n",
       "      <th>Sub_metering_1</th>\n",
       "      <th>Sub_metering_2</th>\n",
       "      <th>Sub_metering_3</th>\n",
       "    </tr>\n",
       "  </thead>\n",
       "  <tbody>\n",
       "    <tr>\n",
       "      <th>1531</th>\n",
       "      <td>NaN</td>\n",
       "      <td>18:55:00</td>\n",
       "      <td>4.006</td>\n",
       "      <td>0.222</td>\n",
       "      <td>229.85</td>\n",
       "      <td>17.400</td>\n",
       "      <td>0.000</td>\n",
       "      <td>0.000</td>\n",
       "      <td>16.0</td>\n",
       "    </tr>\n",
       "    <tr>\n",
       "      <th>1533</th>\n",
       "      <td>NaN</td>\n",
       "      <td>18:57:00</td>\n",
       "      <td>4.060</td>\n",
       "      <td>0.304</td>\n",
       "      <td>229.57</td>\n",
       "      <td>17.600</td>\n",
       "      <td>0.000</td>\n",
       "      <td>0.000</td>\n",
       "      <td>16.0</td>\n",
       "    </tr>\n",
       "    <tr>\n",
       "      <th>1535</th>\n",
       "      <td>NaN</td>\n",
       "      <td>18:59:00</td>\n",
       "      <td>4.046</td>\n",
       "      <td>0.300</td>\n",
       "      <td>229.63</td>\n",
       "      <td>17.600</td>\n",
       "      <td>0.000</td>\n",
       "      <td>0.000</td>\n",
       "      <td>16.0</td>\n",
       "    </tr>\n",
       "    <tr>\n",
       "      <th>1574</th>\n",
       "      <td>NaN</td>\n",
       "      <td>19:38:00</td>\n",
       "      <td>4.842</td>\n",
       "      <td>0.426</td>\n",
       "      <td>230.08</td>\n",
       "      <td>21.200</td>\n",
       "      <td>0.000</td>\n",
       "      <td>0.000</td>\n",
       "      <td>16.0</td>\n",
       "    </tr>\n",
       "    <tr>\n",
       "      <th>3007</th>\n",
       "      <td>NaN</td>\n",
       "      <td>19:31:00</td>\n",
       "      <td>6.158</td>\n",
       "      <td>0.442</td>\n",
       "      <td>229.08</td>\n",
       "      <td>27.000</td>\n",
       "      <td>0.000</td>\n",
       "      <td>36.000</td>\n",
       "      <td>0.0</td>\n",
       "    </tr>\n",
       "    <tr>\n",
       "      <th>7363</th>\n",
       "      <td>NaN</td>\n",
       "      <td>20:07:00</td>\n",
       "      <td>5.614</td>\n",
       "      <td>0.424</td>\n",
       "      <td>230.04</td>\n",
       "      <td>24.400</td>\n",
       "      <td>37.000</td>\n",
       "      <td>0.000</td>\n",
       "      <td>0.0</td>\n",
       "    </tr>\n",
       "    <tr>\n",
       "      <th>7364</th>\n",
       "      <td>NaN</td>\n",
       "      <td>20:08:00</td>\n",
       "      <td>5.296</td>\n",
       "      <td>0.346</td>\n",
       "      <td>228.91</td>\n",
       "      <td>23.200</td>\n",
       "      <td>35.000</td>\n",
       "      <td>1.000</td>\n",
       "      <td>0.0</td>\n",
       "    </tr>\n",
       "  </tbody>\n",
       "</table>\n",
       "</div>"
      ],
      "text/plain": [
       "      Date      Time  Global_active_power  Global_reactive_power  Voltage  \\\n",
       "1531   NaN  18:55:00                4.006                  0.222   229.85   \n",
       "1533   NaN  18:57:00                4.060                  0.304   229.57   \n",
       "1535   NaN  18:59:00                4.046                  0.300   229.63   \n",
       "1574   NaN  19:38:00                4.842                  0.426   230.08   \n",
       "3007   NaN  19:31:00                6.158                  0.442   229.08   \n",
       "7363   NaN  20:07:00                5.614                  0.424   230.04   \n",
       "7364   NaN  20:08:00                5.296                  0.346   228.91   \n",
       "\n",
       "     Global_intensity Sub_metering_1 Sub_metering_2  Sub_metering_3  \n",
       "1531           17.400          0.000          0.000            16.0  \n",
       "1533           17.600          0.000          0.000            16.0  \n",
       "1535           17.600          0.000          0.000            16.0  \n",
       "1574           21.200          0.000          0.000            16.0  \n",
       "3007           27.000          0.000         36.000             0.0  \n",
       "7363           24.400         37.000          0.000             0.0  \n",
       "7364           23.200         35.000          1.000             0.0  "
      ]
     },
     "execution_count": 8,
     "metadata": {},
     "output_type": "execute_result"
    }
   ],
   "source": [
    "# finding outliers using iqr\n",
    "df1[df1['Voltage'] > upper_limit]\n",
    "df1[df1['Voltage'] < lower_limit]"
   ]
  },
  {
   "cell_type": "code",
   "execution_count": 18,
   "id": "5a34a890",
   "metadata": {},
   "outputs": [
    {
     "data": {
      "text/plain": [
       "(10989, 9)"
      ]
     },
     "execution_count": 18,
     "metadata": {},
     "output_type": "execute_result"
    }
   ],
   "source": [
    "# trimming outliers\n",
    "new_df = df1[(df1['Voltage'] < upper_limit) & (df1['Voltage'] > lower_limit)]\n",
    "new_df.shape"
   ]
  },
  {
   "cell_type": "code",
   "execution_count": 21,
   "id": "d8adac27",
   "metadata": {},
   "outputs": [
    {
     "data": {
      "image/png": "[encoded data removed]",
      "text/plain": [
       "<Figure size 1600x800 with 4 Axes>"
      ]
     },
     "metadata": {},
     "output_type": "display_data"
    }
   ],
   "source": [
    "# compare plots after trimming\n",
    "plt.figure(figsize=(16,8))\n",
    "plt.subplot(2,2,1)\n",
    "sns.distplot(df1['Voltage'])\n",
    "plt.subplot(2,2,2)\n",
    "sns.boxplot(df1['Voltage'])\n",
    "\n",
    "plt.subplot(2,2,3)\n",
    "sns.distplot(new_df['Voltage'])\n",
    "plt.subplot(2,2,4)\n",
    "sns.boxplot(new_df['Voltage'])\n",
    "plt.show()"
   ]
  },
  {
   "cell_type": "code",
   "execution_count": 22,
   "id": "a5a28ade",
   "metadata": {},
   "outputs": [
    {
     "name": "stdout",
     "output_type": "stream",
     "text": [
      "Highest allowed 252.1722199200712\n",
      "Lowest allowed 229.9633875735629\n"
     ]
    }
   ],
   "source": [
    "# finding boundary values for Voltage using z-score\n",
    "print(\"Highest allowed\",df1['Voltage'].mean() + 3*df1['Voltage'].std())\n",
    "print(\"Lowest allowed\",df1['Voltage'].mean() - 3*df1['Voltage'].std())"
   ]
  },
  {
   "cell_type": "code",
   "execution_count": 35,
   "id": "bf53d2bb",
   "metadata": {},
   "outputs": [
    {
     "data": {
      "text/html": [
       "<div>\n",
       "<style scoped>\n",
       "    .dataframe tbody tr th:only-of-type {\n",
       "        vertical-align: middle;\n",
       "    }\n",
       "\n",
       "    .dataframe tbody tr th {\n",
       "        vertical-align: top;\n",
       "    }\n",
       "\n",
       "    .dataframe thead th {\n",
       "        text-align: right;\n",
       "    }\n",
       "</style>\n",
       "<table border=\"1\" class=\"dataframe\">\n",
       "  <thead>\n",
       "    <tr style=\"text-align: right;\">\n",
       "      <th></th>\n",
       "      <th>Date</th>\n",
       "      <th>Time</th>\n",
       "      <th>Global_active_power</th>\n",
       "      <th>Global_reactive_power</th>\n",
       "      <th>Voltage</th>\n",
       "      <th>Global_intensity</th>\n",
       "      <th>Sub_metering_1</th>\n",
       "      <th>Sub_metering_2</th>\n",
       "      <th>Sub_metering_3</th>\n",
       "    </tr>\n",
       "  </thead>\n",
       "  <tbody>\n",
       "    <tr>\n",
       "      <th>3007</th>\n",
       "      <td>NaN</td>\n",
       "      <td>19:31:00</td>\n",
       "      <td>6.158</td>\n",
       "      <td>0.442</td>\n",
       "      <td>229.08</td>\n",
       "      <td>27.000</td>\n",
       "      <td>0.000</td>\n",
       "      <td>36.000</td>\n",
       "      <td>0.0</td>\n",
       "    </tr>\n",
       "    <tr>\n",
       "      <th>7364</th>\n",
       "      <td>NaN</td>\n",
       "      <td>20:08:00</td>\n",
       "      <td>5.296</td>\n",
       "      <td>0.346</td>\n",
       "      <td>228.91</td>\n",
       "      <td>23.200</td>\n",
       "      <td>35.000</td>\n",
       "      <td>1.000</td>\n",
       "      <td>0.0</td>\n",
       "    </tr>\n",
       "  </tbody>\n",
       "</table>\n",
       "</div>"
      ],
      "text/plain": [
       "      Date      Time  Global_active_power  Global_reactive_power  Voltage  \\\n",
       "3007   NaN  19:31:00                6.158                  0.442   229.08   \n",
       "7364   NaN  20:08:00                5.296                  0.346   228.91   \n",
       "\n",
       "     Global_intensity Sub_metering_1 Sub_metering_2  Sub_metering_3  \n",
       "3007           27.000          0.000         36.000             0.0  \n",
       "7364           23.200         35.000          1.000             0.0  "
      ]
     },
     "execution_count": 35,
     "metadata": {},
     "output_type": "execute_result"
    }
   ],
   "source": [
    "# finding outliers for Voltage\n",
    "df1[(df1['Voltage'] > 252.1722199200712) | (df1['Voltage'] < 229.3051022204094)]"
   ]
  },
  {
   "cell_type": "code",
   "execution_count": 36,
   "id": "4d294607",
   "metadata": {},
   "outputs": [
    {
     "data": {
      "text/html": [
       "<div>\n",
       "<style scoped>\n",
       "    .dataframe tbody tr th:only-of-type {\n",
       "        vertical-align: middle;\n",
       "    }\n",
       "\n",
       "    .dataframe tbody tr th {\n",
       "        vertical-align: top;\n",
       "    }\n",
       "\n",
       "    .dataframe thead th {\n",
       "        text-align: right;\n",
       "    }\n",
       "</style>\n",
       "<table border=\"1\" class=\"dataframe\">\n",
       "  <thead>\n",
       "    <tr style=\"text-align: right;\">\n",
       "      <th></th>\n",
       "      <th>Date</th>\n",
       "      <th>Time</th>\n",
       "      <th>Global_active_power</th>\n",
       "      <th>Global_reactive_power</th>\n",
       "      <th>Voltage</th>\n",
       "      <th>Global_intensity</th>\n",
       "      <th>Sub_metering_1</th>\n",
       "      <th>Sub_metering_2</th>\n",
       "      <th>Sub_metering_3</th>\n",
       "    </tr>\n",
       "  </thead>\n",
       "  <tbody>\n",
       "    <tr>\n",
       "      <th>0</th>\n",
       "      <td>NaN</td>\n",
       "      <td>17:24:00</td>\n",
       "      <td>4.216</td>\n",
       "      <td>0.418</td>\n",
       "      <td>234.84</td>\n",
       "      <td>18.400</td>\n",
       "      <td>0.000</td>\n",
       "      <td>1.000</td>\n",
       "      <td>17.0</td>\n",
       "    </tr>\n",
       "    <tr>\n",
       "      <th>1</th>\n",
       "      <td>NaN</td>\n",
       "      <td>17:25:00</td>\n",
       "      <td>5.360</td>\n",
       "      <td>0.436</td>\n",
       "      <td>233.63</td>\n",
       "      <td>23.000</td>\n",
       "      <td>0.000</td>\n",
       "      <td>1.000</td>\n",
       "      <td>16.0</td>\n",
       "    </tr>\n",
       "    <tr>\n",
       "      <th>2</th>\n",
       "      <td>NaN</td>\n",
       "      <td>17:26:00</td>\n",
       "      <td>5.374</td>\n",
       "      <td>0.498</td>\n",
       "      <td>233.29</td>\n",
       "      <td>23.000</td>\n",
       "      <td>0.000</td>\n",
       "      <td>2.000</td>\n",
       "      <td>17.0</td>\n",
       "    </tr>\n",
       "    <tr>\n",
       "      <th>3</th>\n",
       "      <td>NaN</td>\n",
       "      <td>17:27:00</td>\n",
       "      <td>5.388</td>\n",
       "      <td>0.502</td>\n",
       "      <td>233.74</td>\n",
       "      <td>23.000</td>\n",
       "      <td>0.000</td>\n",
       "      <td>1.000</td>\n",
       "      <td>17.0</td>\n",
       "    </tr>\n",
       "    <tr>\n",
       "      <th>4</th>\n",
       "      <td>NaN</td>\n",
       "      <td>17:28:00</td>\n",
       "      <td>3.666</td>\n",
       "      <td>0.528</td>\n",
       "      <td>235.68</td>\n",
       "      <td>15.800</td>\n",
       "      <td>0.000</td>\n",
       "      <td>1.000</td>\n",
       "      <td>17.0</td>\n",
       "    </tr>\n",
       "    <tr>\n",
       "      <th>...</th>\n",
       "      <td>...</td>\n",
       "      <td>...</td>\n",
       "      <td>...</td>\n",
       "      <td>...</td>\n",
       "      <td>...</td>\n",
       "      <td>...</td>\n",
       "      <td>...</td>\n",
       "      <td>...</td>\n",
       "      <td>...</td>\n",
       "    </tr>\n",
       "    <tr>\n",
       "      <th>10993</th>\n",
       "      <td>NaN</td>\n",
       "      <td>08:37:00</td>\n",
       "      <td>0.198</td>\n",
       "      <td>0.000</td>\n",
       "      <td>242.87</td>\n",
       "      <td>0.800</td>\n",
       "      <td>0.000</td>\n",
       "      <td>0.000</td>\n",
       "      <td>0.0</td>\n",
       "    </tr>\n",
       "    <tr>\n",
       "      <th>10994</th>\n",
       "      <td>NaN</td>\n",
       "      <td>08:38:00</td>\n",
       "      <td>2.042</td>\n",
       "      <td>0.000</td>\n",
       "      <td>241.76</td>\n",
       "      <td>8.800</td>\n",
       "      <td>0.000</td>\n",
       "      <td>0.000</td>\n",
       "      <td>0.0</td>\n",
       "    </tr>\n",
       "    <tr>\n",
       "      <th>10995</th>\n",
       "      <td>NaN</td>\n",
       "      <td>08:39:00</td>\n",
       "      <td>1.716</td>\n",
       "      <td>0.000</td>\n",
       "      <td>241.95</td>\n",
       "      <td>8.000</td>\n",
       "      <td>0.000</td>\n",
       "      <td>0.000</td>\n",
       "      <td>0.0</td>\n",
       "    </tr>\n",
       "    <tr>\n",
       "      <th>10996</th>\n",
       "      <td>NaN</td>\n",
       "      <td>08:40:00</td>\n",
       "      <td>0.266</td>\n",
       "      <td>0.000</td>\n",
       "      <td>243.73</td>\n",
       "      <td>1.800</td>\n",
       "      <td>0.000</td>\n",
       "      <td>0.000</td>\n",
       "      <td>0.0</td>\n",
       "    </tr>\n",
       "    <tr>\n",
       "      <th>10997</th>\n",
       "      <td>NaN</td>\n",
       "      <td>08:41:00</td>\n",
       "      <td>2.308</td>\n",
       "      <td>0.000</td>\n",
       "      <td>242.20</td>\n",
       "      <td>9.400</td>\n",
       "      <td>0.000</td>\n",
       "      <td>0.000</td>\n",
       "      <td>0.0</td>\n",
       "    </tr>\n",
       "  </tbody>\n",
       "</table>\n",
       "<p>10994 rows × 9 columns</p>\n",
       "</div>"
      ],
      "text/plain": [
       "       Date      Time  Global_active_power  Global_reactive_power  Voltage  \\\n",
       "0       NaN  17:24:00                4.216                  0.418   234.84   \n",
       "1       NaN  17:25:00                5.360                  0.436   233.63   \n",
       "2       NaN  17:26:00                5.374                  0.498   233.29   \n",
       "3       NaN  17:27:00                5.388                  0.502   233.74   \n",
       "4       NaN  17:28:00                3.666                  0.528   235.68   \n",
       "...     ...       ...                  ...                    ...      ...   \n",
       "10993   NaN  08:37:00                0.198                  0.000   242.87   \n",
       "10994   NaN  08:38:00                2.042                  0.000   241.76   \n",
       "10995   NaN  08:39:00                1.716                  0.000   241.95   \n",
       "10996   NaN  08:40:00                0.266                  0.000   243.73   \n",
       "10997   NaN  08:41:00                2.308                  0.000   242.20   \n",
       "\n",
       "      Global_intensity Sub_metering_1 Sub_metering_2  Sub_metering_3  \n",
       "0               18.400          0.000          1.000            17.0  \n",
       "1               23.000          0.000          1.000            16.0  \n",
       "2               23.000          0.000          2.000            17.0  \n",
       "3               23.000          0.000          1.000            17.0  \n",
       "4               15.800          0.000          1.000            17.0  \n",
       "...                ...            ...            ...             ...  \n",
       "10993            0.800          0.000          0.000             0.0  \n",
       "10994            8.800          0.000          0.000             0.0  \n",
       "10995            8.000          0.000          0.000             0.0  \n",
       "10996            1.800          0.000          0.000             0.0  \n",
       "10997            9.400          0.000          0.000             0.0  \n",
       "\n",
       "[10994 rows x 9 columns]"
      ]
     },
     "execution_count": 36,
     "metadata": {},
     "output_type": "execute_result"
    }
   ],
   "source": [
    "# Trimming of outliers for bmi\n",
    "new_df1 = df1[(df1['Voltage'] < 252.1722199200712) & (df1['Voltage'] > 229.3051022204094)]\n",
    "new_df1"
   ]
  },
  {
   "cell_type": "code",
   "execution_count": 41,
   "id": "c10a2744",
   "metadata": {},
   "outputs": [
    {
     "name": "stdout",
     "output_type": "stream",
     "text": [
      "Figure(1000x400)\n"
     ]
    },
    {
     "data": {
      "text/plain": [
       "<Axes: xlabel='Voltage'>"
      ]
     },
     "execution_count": 41,
     "metadata": {},
     "output_type": "execute_result"
    },
    {
     "data": {
      "image/png": "[encoded data removed]",
      "text/plain": [
       "<Figure size 1000x400 with 1 Axes>"
      ]
     },
     "metadata": {},
     "output_type": "display_data"
    }
   ],
   "source": [
    "#Checking outliers using boxplot\n",
    "print(plt.figure(figsize = (10, 4), dpi = 100))\n",
    "sns.boxplot(x = \"Voltage\", data = new_df)"
   ]
  },
  {
   "cell_type": "code",
   "execution_count": 39,
   "id": "c78e018d",
   "metadata": {},
   "outputs": [],
   "source": [
    "df1.to_csv('datasetForExp4.csv', index=False)"
   ]
  }
 ],
 "metadata": {
  "kernelspec": {
   "display_name": "Python 3 (ipykernel)",
   "language": "python",
   "name": "python3"
  },
  "language_info": {
   "codemirror_mode": {
    "name": "ipython",
    "version": 3
   },
   "file_extension": ".py",
   "mimetype": "text/x-python",
   "name": "python",
   "nbconvert_exporter": "python",
   "pygments_lexer": "ipython3",
   "version": "3.11.6"
  }
 },
 "nbformat": 4,
 "nbformat_minor": 5
}
