{
 "cells": [
  {
   "cell_type": "code",
   "execution_count": 1,
   "metadata": {},
   "outputs": [],
   "source": [
    "#import pandas\n",
    "import pandas as pd\n",
    "#import numpy\n",
    "import numpy as np\n",
    "#import matplotlib\n",
    "import matplotlib.pyplot as plt\n",
    "#import seaborn\n",
    "import seaborn as sns"
   ]
  },
  {
   "cell_type": "code",
   "execution_count": 2,
   "metadata": {},
   "outputs": [
    {
     "data": {
      "text/html": [
       "<div>\n",
       "<style scoped>\n",
       "    .dataframe tbody tr th:only-of-type {\n",
       "        vertical-align: middle;\n",
       "    }\n",
       "\n",
       "    .dataframe tbody tr th {\n",
       "        vertical-align: top;\n",
       "    }\n",
       "\n",
       "    .dataframe thead th {\n",
       "        text-align: right;\n",
       "    }\n",
       "</style>\n",
       "<table border=\"1\" class=\"dataframe\">\n",
       "  <thead>\n",
       "    <tr style=\"text-align: right;\">\n",
       "      <th></th>\n",
       "      <th>Unnamed: 0</th>\n",
       "      <th>car_name</th>\n",
       "      <th>car_prices_in_rupee</th>\n",
       "      <th>kms_driven</th>\n",
       "      <th>fuel_type</th>\n",
       "      <th>transmission</th>\n",
       "      <th>ownership</th>\n",
       "      <th>manufacture</th>\n",
       "      <th>engine</th>\n",
       "      <th>Seats</th>\n",
       "      <th>zscore</th>\n",
       "    </tr>\n",
       "  </thead>\n",
       "  <tbody>\n",
       "    <tr>\n",
       "      <th>0</th>\n",
       "      <td>0</td>\n",
       "      <td>Jeep Compass 2.0 Longitude Option BSIV</td>\n",
       "      <td>10.03</td>\n",
       "      <td>86226.0</td>\n",
       "      <td>0</td>\n",
       "      <td>1</td>\n",
       "      <td>1</td>\n",
       "      <td>2017.0</td>\n",
       "      <td>1956.0</td>\n",
       "      <td>5.0</td>\n",
       "      <td>-0.083515</td>\n",
       "    </tr>\n",
       "    <tr>\n",
       "      <th>1</th>\n",
       "      <td>1</td>\n",
       "      <td>Renault Duster RXZ Turbo CVT</td>\n",
       "      <td>12.83</td>\n",
       "      <td>13248.0</td>\n",
       "      <td>1</td>\n",
       "      <td>0</td>\n",
       "      <td>1</td>\n",
       "      <td>2021.0</td>\n",
       "      <td>1330.0</td>\n",
       "      <td>5.0</td>\n",
       "      <td>0.058409</td>\n",
       "    </tr>\n",
       "    <tr>\n",
       "      <th>2</th>\n",
       "      <td>2</td>\n",
       "      <td>Toyota Camry 2.5 G</td>\n",
       "      <td>16.40</td>\n",
       "      <td>60343.0</td>\n",
       "      <td>1</td>\n",
       "      <td>0</td>\n",
       "      <td>1</td>\n",
       "      <td>2016.0</td>\n",
       "      <td>2494.0</td>\n",
       "      <td>5.0</td>\n",
       "      <td>0.239361</td>\n",
       "    </tr>\n",
       "    <tr>\n",
       "      <th>3</th>\n",
       "      <td>4</td>\n",
       "      <td>Volkswagen Polo 1.2 MPI Highline</td>\n",
       "      <td>5.15</td>\n",
       "      <td>69414.0</td>\n",
       "      <td>1</td>\n",
       "      <td>1</td>\n",
       "      <td>1</td>\n",
       "      <td>2016.0</td>\n",
       "      <td>1199.0</td>\n",
       "      <td>5.0</td>\n",
       "      <td>-0.330867</td>\n",
       "    </tr>\n",
       "    <tr>\n",
       "      <th>4</th>\n",
       "      <td>5</td>\n",
       "      <td>Volkswagen Vento 1.2 TSI Highline AT</td>\n",
       "      <td>7.66</td>\n",
       "      <td>49719.0</td>\n",
       "      <td>1</td>\n",
       "      <td>0</td>\n",
       "      <td>1</td>\n",
       "      <td>2017.0</td>\n",
       "      <td>1197.0</td>\n",
       "      <td>5.0</td>\n",
       "      <td>-0.203643</td>\n",
       "    </tr>\n",
       "    <tr>\n",
       "      <th>...</th>\n",
       "      <td>...</td>\n",
       "      <td>...</td>\n",
       "      <td>...</td>\n",
       "      <td>...</td>\n",
       "      <td>...</td>\n",
       "      <td>...</td>\n",
       "      <td>...</td>\n",
       "      <td>...</td>\n",
       "      <td>...</td>\n",
       "      <td>...</td>\n",
       "      <td>...</td>\n",
       "    </tr>\n",
       "    <tr>\n",
       "      <th>5466</th>\n",
       "      <td>5525</td>\n",
       "      <td>BMW X1 sDrive 20d xLine</td>\n",
       "      <td>28.90</td>\n",
       "      <td>45000.0</td>\n",
       "      <td>0</td>\n",
       "      <td>0</td>\n",
       "      <td>1</td>\n",
       "      <td>2018.0</td>\n",
       "      <td>2995.0</td>\n",
       "      <td>7.0</td>\n",
       "      <td>0.872949</td>\n",
       "    </tr>\n",
       "    <tr>\n",
       "      <th>5467</th>\n",
       "      <td>5526</td>\n",
       "      <td>BMW M Series M4 Coupe</td>\n",
       "      <td>64.90</td>\n",
       "      <td>29000.0</td>\n",
       "      <td>1</td>\n",
       "      <td>0</td>\n",
       "      <td>2</td>\n",
       "      <td>2015.0</td>\n",
       "      <td>1968.0</td>\n",
       "      <td>5.0</td>\n",
       "      <td>2.697682</td>\n",
       "    </tr>\n",
       "    <tr>\n",
       "      <th>5468</th>\n",
       "      <td>5527</td>\n",
       "      <td>Jaguar XF 2.2 Litre Luxury</td>\n",
       "      <td>13.75</td>\n",
       "      <td>90000.0</td>\n",
       "      <td>0</td>\n",
       "      <td>0</td>\n",
       "      <td>2</td>\n",
       "      <td>2013.0</td>\n",
       "      <td>2755.0</td>\n",
       "      <td>5.0</td>\n",
       "      <td>0.105041</td>\n",
       "    </tr>\n",
       "    <tr>\n",
       "      <th>5469</th>\n",
       "      <td>5528</td>\n",
       "      <td>BMW 7 Series 730Ld</td>\n",
       "      <td>29.90</td>\n",
       "      <td>79000.0</td>\n",
       "      <td>0</td>\n",
       "      <td>0</td>\n",
       "      <td>3</td>\n",
       "      <td>2015.0</td>\n",
       "      <td>2967.0</td>\n",
       "      <td>6.0</td>\n",
       "      <td>0.923636</td>\n",
       "    </tr>\n",
       "    <tr>\n",
       "      <th>5470</th>\n",
       "      <td>5529</td>\n",
       "      <td>BMW 5 Series 520d M Sport</td>\n",
       "      <td>31.90</td>\n",
       "      <td>42000.0</td>\n",
       "      <td>0</td>\n",
       "      <td>0</td>\n",
       "      <td>2</td>\n",
       "      <td>2017.0</td>\n",
       "      <td>1991.0</td>\n",
       "      <td>5.0</td>\n",
       "      <td>1.025010</td>\n",
       "    </tr>\n",
       "  </tbody>\n",
       "</table>\n",
       "<p>5471 rows × 11 columns</p>\n",
       "</div>"
      ],
      "text/plain": [
       "      Unnamed: 0                                car_name  car_prices_in_rupee  \\\n",
       "0              0  Jeep Compass 2.0 Longitude Option BSIV                10.03   \n",
       "1              1            Renault Duster RXZ Turbo CVT                12.83   \n",
       "2              2                      Toyota Camry 2.5 G                16.40   \n",
       "3              4        Volkswagen Polo 1.2 MPI Highline                 5.15   \n",
       "4              5    Volkswagen Vento 1.2 TSI Highline AT                 7.66   \n",
       "...          ...                                     ...                  ...   \n",
       "5466        5525                 BMW X1 sDrive 20d xLine                28.90   \n",
       "5467        5526                   BMW M Series M4 Coupe                64.90   \n",
       "5468        5527              Jaguar XF 2.2 Litre Luxury                13.75   \n",
       "5469        5528                      BMW 7 Series 730Ld                29.90   \n",
       "5470        5529               BMW 5 Series 520d M Sport                31.90   \n",
       "\n",
       "      kms_driven  fuel_type  transmission  ownership  manufacture  engine  \\\n",
       "0        86226.0          0             1          1       2017.0  1956.0   \n",
       "1        13248.0          1             0          1       2021.0  1330.0   \n",
       "2        60343.0          1             0          1       2016.0  2494.0   \n",
       "3        69414.0          1             1          1       2016.0  1199.0   \n",
       "4        49719.0          1             0          1       2017.0  1197.0   \n",
       "...          ...        ...           ...        ...          ...     ...   \n",
       "5466     45000.0          0             0          1       2018.0  2995.0   \n",
       "5467     29000.0          1             0          2       2015.0  1968.0   \n",
       "5468     90000.0          0             0          2       2013.0  2755.0   \n",
       "5469     79000.0          0             0          3       2015.0  2967.0   \n",
       "5470     42000.0          0             0          2       2017.0  1991.0   \n",
       "\n",
       "      Seats    zscore  \n",
       "0       5.0 -0.083515  \n",
       "1       5.0  0.058409  \n",
       "2       5.0  0.239361  \n",
       "3       5.0 -0.330867  \n",
       "4       5.0 -0.203643  \n",
       "...     ...       ...  \n",
       "5466    7.0  0.872949  \n",
       "5467    5.0  2.697682  \n",
       "5468    5.0  0.105041  \n",
       "5469    6.0  0.923636  \n",
       "5470    5.0  1.025010  \n",
       "\n",
       "[5471 rows x 11 columns]"
      ]
     },
     "execution_count": 2,
     "metadata": {},
     "output_type": "execute_result"
    }
   ],
   "source": [
    "# use pandas to import csv file\n",
    "df = pd.read_csv(\"clean4_car_price.csv\")\n",
    "# too see max columns\n",
    "pd.set_option('display.max_columns',None)\n",
    "# print dataframe\n",
    "df"
   ]
  },
  {
   "cell_type": "code",
   "execution_count": 3,
   "metadata": {},
   "outputs": [
    {
     "name": "stdout",
     "output_type": "stream",
     "text": [
      "<class 'pandas.core.frame.DataFrame'>\n",
      "RangeIndex: 5471 entries, 0 to 5470\n",
      "Data columns (total 11 columns):\n",
      " #   Column               Non-Null Count  Dtype  \n",
      "---  ------               --------------  -----  \n",
      " 0   Unnamed: 0           5471 non-null   int64  \n",
      " 1   car_name             5471 non-null   object \n",
      " 2   car_prices_in_rupee  5471 non-null   float64\n",
      " 3   kms_driven           5471 non-null   float64\n",
      " 4   fuel_type            5471 non-null   int64  \n",
      " 5   transmission         5471 non-null   int64  \n",
      " 6   ownership            5471 non-null   int64  \n",
      " 7   manufacture          5471 non-null   float64\n",
      " 8   engine               5471 non-null   float64\n",
      " 9   Seats                5471 non-null   float64\n",
      " 10  zscore               5471 non-null   float64\n",
      "dtypes: float64(6), int64(4), object(1)\n",
      "memory usage: 470.3+ KB\n"
     ]
    }
   ],
   "source": [
    "df.info()"
   ]
  },
  {
   "cell_type": "code",
   "execution_count": 4,
   "metadata": {},
   "outputs": [
    {
     "name": "stdout",
     "output_type": "stream",
     "text": [
      "Unnamed: 0             0\n",
      "car_name               0\n",
      "car_prices_in_rupee    0\n",
      "kms_driven             0\n",
      "fuel_type              0\n",
      "transmission           0\n",
      "ownership              0\n",
      "manufacture            0\n",
      "engine                 0\n",
      "Seats                  0\n",
      "zscore                 0\n",
      "dtype: int64\n",
      "Missing values distribution: \n",
      "Unnamed: 0             0.0\n",
      "car_name               0.0\n",
      "car_prices_in_rupee    0.0\n",
      "kms_driven             0.0\n",
      "fuel_type              0.0\n",
      "transmission           0.0\n",
      "ownership              0.0\n",
      "manufacture            0.0\n",
      "engine                 0.0\n",
      "Seats                  0.0\n",
      "zscore                 0.0\n",
      "dtype: float64\n"
     ]
    }
   ],
   "source": [
    "#New dataframe \n",
    "new_df = df\n",
    "#Checking for null values \n",
    "print(new_df.isnull().sum()) \n",
    "print(\"Missing values distribution: \")\n",
    "print(new_df.isnull().mean())"
   ]
  },
  {
   "cell_type": "code",
   "execution_count": 5,
   "metadata": {},
   "outputs": [],
   "source": [
    "from sklearn.datasets import make_classification\n",
    "X, y = make_classification(n_classes=2, class_sep=0.5,\n",
    "weights=[0.05, 0.95], n_informative=2, n_redundant=0, flip_y=0,\n",
    "n_features=2, n_clusters_per_class=1, n_samples=1000, random_state=10)"
   ]
  },
  {
   "cell_type": "code",
   "execution_count": 6,
   "metadata": {},
   "outputs": [],
   "source": [
    "from sklearn.model_selection import train_test_split\n",
    "  \n",
    "# split into 75:25 ratio\n",
    "X_train, X_test, y_train, y_test = train_test_split(X, y, test_size = 0.25, random_state = 0)"
   ]
  },
  {
   "cell_type": "code",
   "execution_count": 7,
   "metadata": {},
   "outputs": [
    {
     "name": "stdout",
     "output_type": "stream",
     "text": [
      "0.98\n"
     ]
    },
    {
     "data": {
      "text/plain": [
       "array([[ 10,   5],\n",
       "       [  0, 235]], dtype=int64)"
      ]
     },
     "execution_count": 7,
     "metadata": {},
     "output_type": "execute_result"
    }
   ],
   "source": [
    "#KNN classifer\n",
    "from sklearn.neighbors import KNeighborsClassifier\n",
    "model = KNeighborsClassifier() \n",
    "model.fit(X_train, y_train) \n",
    "y_pred = model.predict(X_test) \n",
    "#Accuracy and Confusion matrix\n",
    "from sklearn.metrics import confusion_matrix \n",
    "from sklearn.metrics import accuracy_score\n",
    "cm = confusion_matrix(y_test, y_pred)\n",
    "print(accuracy_score(y_test, model.predict(X_test))) \n",
    "cm"
   ]
  },
  {
   "cell_type": "code",
   "execution_count": 8,
   "metadata": {},
   "outputs": [
    {
     "name": "stdout",
     "output_type": "stream",
     "text": [
      "Naive Bayes score:  0.07429963459196103\n"
     ]
    }
   ],
   "source": [
    "new_df['car_prices_in_rupee'] = pd.cut(new_df['car_prices_in_rupee'], bins=1000, labels=False)\n",
    "\n",
    "#Naive Bayes Classifier\n",
    "x = new_df.drop([\"car_name\"], axis = 1)\n",
    "y = new_df.car_name.values\n",
    "from sklearn.model_selection import train_test_split\n",
    "  \n",
    "from sklearn.model_selection import train_test_split\n",
    "x_train, x_test, y_train, y_test = train_test_split(x, y, test_size = 0.3, random_state = 42)\n",
    "from sklearn.naive_bayes import GaussianNB\n",
    "nb = GaussianNB()\n",
    "nb.fit(x_train, y_train)\n",
    "print(\"Naive Bayes score: \",nb.score(x_test, y_test))"
   ]
  },
  {
   "cell_type": "code",
   "execution_count": 9,
   "metadata": {},
   "outputs": [],
   "source": [
    "\n",
    "#split dataset in features and target variable\n",
    "feature_cols = ['kms_driven','fuel_type','transmission','ownership','manufacture','engine','Seats','zscore']\n",
    "X = new_df[feature_cols] # Features\n",
    "y = new_df.car_prices_in_rupee # Target variable"
   ]
  },
  {
   "cell_type": "code",
   "execution_count": 10,
   "metadata": {},
   "outputs": [],
   "source": [
    "# Split dataset into training set and test set\n",
    "X_train, X_test, y_train, y_test = train_test_split(X, y, test_size=0.3, random_state=1)"
   ]
  },
  {
   "cell_type": "code",
   "execution_count": 11,
   "metadata": {},
   "outputs": [],
   "source": [
    "from sklearn.tree import DecisionTreeClassifier # Import Decision Tree Classifier\n",
    "# Create Decision Tree classifer object\n",
    "clf = DecisionTreeClassifier()\n",
    "\n",
    "# Train Decision Tree Classifer\n",
    "clf = clf.fit(X_train,y_train)\n",
    "\n",
    "#Predict the response for test dataset\n",
    "y_pred = clf.predict(X_test)"
   ]
  },
  {
   "cell_type": "code",
   "execution_count": 12,
   "metadata": {},
   "outputs": [
    {
     "name": "stdout",
     "output_type": "stream",
     "text": [
      "Accuracy: 0.9671132764920828\n"
     ]
    }
   ],
   "source": [
    "from sklearn import metrics #Import scikit-learn metrics module for accuracy calculation\n",
    "# Model Accuracy, how often is the classifier correct?\n",
    "print(\"Accuracy:\",metrics.accuracy_score(y_test, y_pred))"
   ]
  },
  {
   "cell_type": "code",
   "execution_count": null,
   "metadata": {},
   "outputs": [],
   "source": []
  }
 ],
 "metadata": {
  "kernelspec": {
   "display_name": "Python 3",
   "language": "python",
   "name": "python3"
  },
  "language_info": {
   "codemirror_mode": {
    "name": "ipython",
    "version": 3
   },
   "file_extension": ".py",
   "mimetype": "text/x-python",
   "name": "python",
   "nbconvert_exporter": "python",
   "pygments_lexer": "ipython3",
   "version": "3.12.2"
  }
 },
 "nbformat": 4,
 "nbformat_minor": 2
}
