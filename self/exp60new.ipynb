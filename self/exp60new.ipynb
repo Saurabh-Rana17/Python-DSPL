{
 "cells": [
  {
   "cell_type": "code",
   "execution_count": 111,
   "metadata": {},
   "outputs": [
    {
     "data": {
      "text/html": [
       "<div>\n",
       "<style scoped>\n",
       "    .dataframe tbody tr th:only-of-type {\n",
       "        vertical-align: middle;\n",
       "    }\n",
       "\n",
       "    .dataframe tbody tr th {\n",
       "        vertical-align: top;\n",
       "    }\n",
       "\n",
       "    .dataframe thead th {\n",
       "        text-align: right;\n",
       "    }\n",
       "</style>\n",
       "<table border=\"1\" class=\"dataframe\">\n",
       "  <thead>\n",
       "    <tr style=\"text-align: right;\">\n",
       "      <th></th>\n",
       "      <th>Unnamed: 0</th>\n",
       "      <th>car_name</th>\n",
       "      <th>car_prices_in_rupee</th>\n",
       "      <th>kms_driven</th>\n",
       "      <th>fuel_type</th>\n",
       "      <th>transmission</th>\n",
       "      <th>ownership</th>\n",
       "      <th>manufacture</th>\n",
       "      <th>engine</th>\n",
       "      <th>Seats</th>\n",
       "      <th>zscore</th>\n",
       "    </tr>\n",
       "  </thead>\n",
       "  <tbody>\n",
       "    <tr>\n",
       "      <th>0</th>\n",
       "      <td>0</td>\n",
       "      <td>Jeep Compass 2.0 Longitude Option BSIV</td>\n",
       "      <td>10.03</td>\n",
       "      <td>86226.0</td>\n",
       "      <td>0</td>\n",
       "      <td>1</td>\n",
       "      <td>1</td>\n",
       "      <td>2017.0</td>\n",
       "      <td>1956.0</td>\n",
       "      <td>5.0</td>\n",
       "      <td>-0.083515</td>\n",
       "    </tr>\n",
       "    <tr>\n",
       "      <th>1</th>\n",
       "      <td>1</td>\n",
       "      <td>Renault Duster RXZ Turbo CVT</td>\n",
       "      <td>12.83</td>\n",
       "      <td>13248.0</td>\n",
       "      <td>1</td>\n",
       "      <td>0</td>\n",
       "      <td>1</td>\n",
       "      <td>2021.0</td>\n",
       "      <td>1330.0</td>\n",
       "      <td>5.0</td>\n",
       "      <td>0.058409</td>\n",
       "    </tr>\n",
       "    <tr>\n",
       "      <th>2</th>\n",
       "      <td>2</td>\n",
       "      <td>Toyota Camry 2.5 G</td>\n",
       "      <td>16.40</td>\n",
       "      <td>60343.0</td>\n",
       "      <td>1</td>\n",
       "      <td>0</td>\n",
       "      <td>1</td>\n",
       "      <td>2016.0</td>\n",
       "      <td>2494.0</td>\n",
       "      <td>5.0</td>\n",
       "      <td>0.239361</td>\n",
       "    </tr>\n",
       "    <tr>\n",
       "      <th>3</th>\n",
       "      <td>4</td>\n",
       "      <td>Volkswagen Polo 1.2 MPI Highline</td>\n",
       "      <td>5.15</td>\n",
       "      <td>69414.0</td>\n",
       "      <td>1</td>\n",
       "      <td>1</td>\n",
       "      <td>1</td>\n",
       "      <td>2016.0</td>\n",
       "      <td>1199.0</td>\n",
       "      <td>5.0</td>\n",
       "      <td>-0.330867</td>\n",
       "    </tr>\n",
       "    <tr>\n",
       "      <th>4</th>\n",
       "      <td>5</td>\n",
       "      <td>Volkswagen Vento 1.2 TSI Highline AT</td>\n",
       "      <td>7.66</td>\n",
       "      <td>49719.0</td>\n",
       "      <td>1</td>\n",
       "      <td>0</td>\n",
       "      <td>1</td>\n",
       "      <td>2017.0</td>\n",
       "      <td>1197.0</td>\n",
       "      <td>5.0</td>\n",
       "      <td>-0.203643</td>\n",
       "    </tr>\n",
       "  </tbody>\n",
       "</table>\n",
       "</div>"
      ],
      "text/plain": [
       "   Unnamed: 0                                car_name  car_prices_in_rupee  \\\n",
       "0           0  Jeep Compass 2.0 Longitude Option BSIV                10.03   \n",
       "1           1            Renault Duster RXZ Turbo CVT                12.83   \n",
       "2           2                      Toyota Camry 2.5 G                16.40   \n",
       "3           4        Volkswagen Polo 1.2 MPI Highline                 5.15   \n",
       "4           5    Volkswagen Vento 1.2 TSI Highline AT                 7.66   \n",
       "\n",
       "   kms_driven  fuel_type  transmission  ownership  manufacture  engine  Seats  \\\n",
       "0     86226.0          0             1          1       2017.0  1956.0    5.0   \n",
       "1     13248.0          1             0          1       2021.0  1330.0    5.0   \n",
       "2     60343.0          1             0          1       2016.0  2494.0    5.0   \n",
       "3     69414.0          1             1          1       2016.0  1199.0    5.0   \n",
       "4     49719.0          1             0          1       2017.0  1197.0    5.0   \n",
       "\n",
       "     zscore  \n",
       "0 -0.083515  \n",
       "1  0.058409  \n",
       "2  0.239361  \n",
       "3 -0.330867  \n",
       "4 -0.203643  "
      ]
     },
     "execution_count": 111,
     "metadata": {},
     "output_type": "execute_result"
    }
   ],
   "source": [
    "import pandas as pd\n",
    "df = pd.read_csv(\"clean6_car_price.csv\")\n",
    "df1 = df\n",
    "df1.head()"
   ]
  },
  {
   "cell_type": "code",
   "execution_count": 112,
   "metadata": {},
   "outputs": [
    {
     "name": "stderr",
     "output_type": "stream",
     "text": [
      "c:\\Users\\Gaurav\\AppData\\Local\\Programs\\Python\\Python312\\Lib\\site-packages\\sklearn\\metrics\\_regression.py:483: FutureWarning: 'squared' is deprecated in version 1.4 and will be removed in 1.6. To calculate the root mean squared error, use the function'root_mean_squared_error'.\n",
      "  warnings.warn(\n"
     ]
    },
    {
     "name": "stdout",
     "output_type": "stream",
     "text": [
      "Mean Squared Error: 8.369012013302035\n",
      "Root Mean Squared Error: 2.8929244741786873\n",
      "Mean Absolute Error: 2.1072191665582714\n"
     ]
    },
    {
     "data": {
      "image/png": "[encoded data removed]",
      "text/plain": [
       "<Figure size 640x480 with 1 Axes>"
      ]
     },
     "metadata": {},
     "output_type": "display_data"
    },
    {
     "name": "stdout",
     "output_type": "stream",
     "text": [
      "R-squared: 0.5662986352801112\n"
     ]
    }
   ],
   "source": [
    "# Import necessary libraries\n",
    "import pandas as pd\n",
    "from sklearn.model_selection import train_test_split\n",
    "from sklearn.linear_model import LinearRegression\n",
    "from sklearn.metrics import mean_squared_error, mean_absolute_error\n",
    "\n",
    "# Load the dataset\n",
    "data = pd.read_csv('clean6_car_price.csv')\n",
    "\n",
    "# Drop unnecessary columns (like index or irrelevant features)\n",
    "# data.drop(['Unnamed: 0', 'car_name'], axis=1, inplace=True)\n",
    "\n",
    "# Split the data into features and target variable\n",
    "X = df1[['engine', 'manufacture','Seats','kms_driven','ownership','fuel_type','transmission']]\n",
    "\n",
    "y = data['car_prices_in_rupee']\n",
    "\n",
    "# Split data into train and test sets\n",
    "X_train, X_test, y_train, y_test = train_test_split(X, y, test_size=0.2, random_state=42)\n",
    "\n",
    "# Initialize the Linear Regression model\n",
    "model = LinearRegression()\n",
    "\n",
    "# Train the model\n",
    "model.fit(X_train, y_train)\n",
    "\n",
    "# Make predictions on the test set\n",
    "predictions = model.predict(X_test)\n",
    "\n",
    "# Evaluate the model\n",
    "mse = mean_squared_error(y_test, predictions)\n",
    "rmse = mean_squared_error(y_test, predictions, squared=False)\n",
    "mae = mean_absolute_error(y_test, predictions)\n",
    "\n",
    "print(\"Mean Squared Error:\", mse)\n",
    "print(\"Root Mean Squared Error:\", rmse)\n",
    "print(\"Mean Absolute Error:\", mae)\n",
    "\n",
    "import matplotlib.pyplot as plt\n",
    "\n",
    "# Plotting actual vs. predicted prices\n",
    "plt.scatter(y_test, predictions)\n",
    "plt.xlabel(\"Actual Prices\")\n",
    "plt.ylabel(\"Predicted Prices\")\n",
    "plt.title(\"Actual vs. Predicted Car Prices\")\n",
    "plt.show()\n",
    "# Get R-squared value\n",
    "r_squared = model.score(X_test, y_test)\n",
    "print(\"R-squared:\", r_squared)\n",
    "\n",
    "\n"
   ]
  },
  {
   "cell_type": "code",
   "execution_count": 113,
   "metadata": {},
   "outputs": [
    {
     "name": "stdout",
     "output_type": "stream",
     "text": [
      "Cross-Validation Scores: [0.50228291 0.52256664 0.45100244 0.52428562 0.59630087]\n",
      "Mean Score: 0.5192876950599417\n",
      "Standard Deviation of Scores: 0.046730715475487516\n"
     ]
    }
   ],
   "source": [
    "from sklearn.model_selection import cross_val_score\n",
    "\n",
    "scores = cross_val_score(model, X, y, cv=5)\n",
    "print(\"Cross-Validation Scores:\", scores)\n",
    "\n",
    "# Print the mean and standard deviation of the scores\n",
    "print(\"Mean Score:\", scores.mean())\n",
    "print(\"Standard Deviation of Scores:\", scores.std())\n",
    "\n"
   ]
  },
  {
   "cell_type": "code",
   "execution_count": 114,
   "metadata": {},
   "outputs": [
    {
     "name": "stdout",
     "output_type": "stream",
     "text": [
      "Cross-Validation Mean Squared Error: [10.65417309 10.87325686  7.9795653   7.4978028   7.57502195]\n",
      "Cross-Validation Mean Squared Error (Mean): 8.9159640012561\n",
      "Cross-Validation Mean Squared Error (Standard Deviation): 1.5191126022390418\n"
     ]
    }
   ],
   "source": [
    "from sklearn.model_selection import cross_val_score\n",
    "from sklearn.linear_model import LinearRegression\n",
    "\n",
    "# Assuming 'X' contains your features and 'y' contains your target variable\n",
    "\n",
    "# Initialize the model\n",
    "model = LinearRegression()\n",
    "\n",
    "# Perform cross-validation with 5 folds\n",
    "cv_scores = cross_val_score(model, X, y, cv=5, scoring='neg_mean_squared_error')\n",
    "\n",
    "# Convert the negative MSE scores to positive values\n",
    "cv_scores = -cv_scores\n",
    "\n",
    "# Print the cross-validation scores\n",
    "print(\"Cross-Validation Mean Squared Error:\", cv_scores)\n",
    "print(\"Cross-Validation Mean Squared Error (Mean):\", cv_scores.mean())\n",
    "print(\"Cross-Validation Mean Squared Error (Standard Deviation):\", cv_scores.std())\n"
   ]
  },
  {
   "cell_type": "code",
   "execution_count": 118,
   "metadata": {},
   "outputs": [
    {
     "name": "stdout",
     "output_type": "stream",
     "text": [
      "Percentage of predictions within ±80.0=% of actual prices: 84.42%\n"
     ]
    }
   ],
   "source": [
    "import numpy as np\n",
    "# Assuming 'predictions' is your array of predicted prices and 'y_test' is the array of actual prices\n",
    "\n",
    "# Define a tolerance level (e.g., ±5% of the actual price)\n",
    "tolerance = 0.8\n",
    "\n",
    "# Calculate the absolute percentage error for each prediction\n",
    "absolute_percentage_error = np.abs(predictions - y_test) / y_test\n",
    "\n",
    "# Calculate the percentage of predictions within the tolerance\n",
    "percentage_within_tolerance = np.mean(absolute_percentage_error <= tolerance) * 100\n",
    "\n",
    "print(\"Percentage of predictions within ±{}=% of actual prices: {:.2f}%\".format(tolerance * 100, percentage_within_tolerance))\n"
   ]
  },
  {
   "cell_type": "code",
   "execution_count": 120,
   "metadata": {},
   "outputs": [
    {
     "name": "stdout",
     "output_type": "stream",
     "text": [
      "Mean Squared Error: 7.917252849066123\n",
      "Root Mean Squared Error: 2.81376133477346\n",
      "Mean Absolute Error: 1.8726299678383755\n",
      "R-squared: 0.5897098295456249\n"
     ]
    },
    {
     "name": "stderr",
     "output_type": "stream",
     "text": [
      "c:\\Users\\Gaurav\\AppData\\Local\\Programs\\Python\\Python312\\Lib\\site-packages\\sklearn\\metrics\\_regression.py:483: FutureWarning: 'squared' is deprecated in version 1.4 and will be removed in 1.6. To calculate the root mean squared error, use the function'root_mean_squared_error'.\n",
      "  warnings.warn(\n"
     ]
    }
   ],
   "source": [
    "import pandas as pd\n",
    "from sklearn.model_selection import train_test_split\n",
    "from sklearn.svm import SVR\n",
    "from sklearn.metrics import mean_squared_error, mean_absolute_error, r2_score\n",
    "from sklearn.preprocessing import StandardScaler\n",
    "\n",
    "# Load the dataset\n",
    "# data = pd.read_csv(\"\")  # Replace \"your_dataset.csv\" with the path to your dataset file\n",
    "\n",
    "# Assuming 'X' contains your features and 'y' contains your target variable\n",
    "X = data[['kms_driven', 'fuel_type', 'transmission', 'ownership', 'manufacture', 'engine', 'Seats']]\n",
    "y = data['car_prices_in_rupee']\n",
    "\n",
    "# Split the data into training and testing sets\n",
    "X_train, X_test, y_train, y_test = train_test_split(X, y, test_size=0.2, random_state=42)\n",
    "\n",
    "# Standardize features by removing the mean and scaling to unit variance\n",
    "scaler = StandardScaler()\n",
    "X_train_scaled = scaler.fit_transform(X_train)\n",
    "X_test_scaled = scaler.transform(X_test)\n",
    "\n",
    "# Initialize the SVR model\n",
    "model = SVR(kernel='rbf')  # RBF kernel is commonly used for SVR\n",
    "\n",
    "# Train the model\n",
    "model.fit(X_train_scaled, y_train)\n",
    "\n",
    "# Make predictions\n",
    "predictions = model.predict(X_test_scaled)\n",
    "\n",
    "# Evaluate the model\n",
    "mse = mean_squared_error(y_test, predictions)\n",
    "rmse = mean_squared_error(y_test, predictions, squared=False)\n",
    "mae = mean_absolute_error(y_test, predictions)\n",
    "r2 = r2_score(y_test, predictions)\n",
    "\n",
    "print(\"Mean Squared Error:\", mse)\n",
    "print(\"Root Mean Squared Error:\", rmse)\n",
    "print(\"Mean Absolute Error:\", mae)\n",
    "print(\"R-squared:\", r2)\n"
   ]
  },
  {
   "cell_type": "code",
   "execution_count": 123,
   "metadata": {},
   "outputs": [
    {
     "name": "stdout",
     "output_type": "stream",
     "text": [
      "Percentage of predictions within ±10.0=% of actual prices: 21.50%\n"
     ]
    }
   ],
   "source": [
    "import numpy as np\n",
    "# Assuming 'predictions' is your array of predicted prices and 'y_test' is the array of actual prices\n",
    "\n",
    "# Define a tolerance level (e.g., ±5% of the actual price)\n",
    "tolerance = 0.1\n",
    "\n",
    "# Calculate the absolute percentage error for each prediction\n",
    "absolute_percentage_error = np.abs(predictions - y_test) / y_test\n",
    "\n",
    "# Calculate the percentage of predictions within the tolerance\n",
    "percentage_within_tolerance = np.mean(absolute_percentage_error <= tolerance) * 100\n",
    "\n",
    "print(\"Percentage of predictions within ±{}=% of actual prices: {:.2f}%\".format(tolerance * 100, percentage_within_tolerance))\n",
    "\n"
   ]
  }
 ],
 "metadata": {
  "kernelspec": {
   "display_name": "Python 3",
   "language": "python",
   "name": "python3"
  },
  "language_info": {
   "codemirror_mode": {
    "name": "ipython",
    "version": 3
   },
   "file_extension": ".py",
   "mimetype": "text/x-python",
   "name": "python",
   "nbconvert_exporter": "python",
   "pygments_lexer": "ipython3",
   "version": "3.12.2"
  }
 },
 "nbformat": 4,
 "nbformat_minor": 2
}
