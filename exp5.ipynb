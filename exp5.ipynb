{
 "cells": [
  {
   "cell_type": "code",
   "execution_count": 1,
   "metadata": {},
   "outputs": [],
   "source": [
    "#import pandas\n",
    "import pandas as pd\n",
    "#import numpy\n",
    "import numpy as np\n",
    "#import matplotlib\n",
    "import matplotlib.pyplot as plt\n",
    "#import seaborn\n",
    "import seaborn as sns"
   ]
  },
  {
   "cell_type": "code",
   "execution_count": 2,
   "metadata": {},
   "outputs": [
    {
     "data": {
      "text/html": [
       "<div>\n",
       "<style scoped>\n",
       "    .dataframe tbody tr th:only-of-type {\n",
       "        vertical-align: middle;\n",
       "    }\n",
       "\n",
       "    .dataframe tbody tr th {\n",
       "        vertical-align: top;\n",
       "    }\n",
       "\n",
       "    .dataframe thead th {\n",
       "        text-align: right;\n",
       "    }\n",
       "</style>\n",
       "<table border=\"1\" class=\"dataframe\">\n",
       "  <thead>\n",
       "    <tr style=\"text-align: right;\">\n",
       "      <th></th>\n",
       "      <th>Unnamed: 0</th>\n",
       "      <th>car_name</th>\n",
       "      <th>car_prices_in_rupee</th>\n",
       "      <th>kms_driven</th>\n",
       "      <th>fuel_type</th>\n",
       "      <th>transmission</th>\n",
       "      <th>ownership</th>\n",
       "      <th>manufacture</th>\n",
       "      <th>engine</th>\n",
       "      <th>Seats</th>\n",
       "    </tr>\n",
       "  </thead>\n",
       "  <tbody>\n",
       "    <tr>\n",
       "      <th>0</th>\n",
       "      <td>0</td>\n",
       "      <td>Jeep Compass 2.0 Longitude Option BSIV</td>\n",
       "      <td>10.03</td>\n",
       "      <td>86226.0</td>\n",
       "      <td>Diesel</td>\n",
       "      <td>Manual</td>\n",
       "      <td>1</td>\n",
       "      <td>2017.0</td>\n",
       "      <td>1956.0</td>\n",
       "      <td>5.0</td>\n",
       "    </tr>\n",
       "    <tr>\n",
       "      <th>1</th>\n",
       "      <td>1</td>\n",
       "      <td>Renault Duster RXZ Turbo CVT</td>\n",
       "      <td>12.83</td>\n",
       "      <td>13248.0</td>\n",
       "      <td>Petrol</td>\n",
       "      <td>Automatic</td>\n",
       "      <td>1</td>\n",
       "      <td>2021.0</td>\n",
       "      <td>1330.0</td>\n",
       "      <td>5.0</td>\n",
       "    </tr>\n",
       "    <tr>\n",
       "      <th>2</th>\n",
       "      <td>2</td>\n",
       "      <td>Toyota Camry 2.5 G</td>\n",
       "      <td>16.40</td>\n",
       "      <td>60343.0</td>\n",
       "      <td>Petrol</td>\n",
       "      <td>Automatic</td>\n",
       "      <td>1</td>\n",
       "      <td>2016.0</td>\n",
       "      <td>2494.0</td>\n",
       "      <td>5.0</td>\n",
       "    </tr>\n",
       "    <tr>\n",
       "      <th>3</th>\n",
       "      <td>4</td>\n",
       "      <td>Volkswagen Polo 1.2 MPI Highline</td>\n",
       "      <td>5.15</td>\n",
       "      <td>69414.0</td>\n",
       "      <td>Petrol</td>\n",
       "      <td>Manual</td>\n",
       "      <td>1</td>\n",
       "      <td>2016.0</td>\n",
       "      <td>1199.0</td>\n",
       "      <td>5.0</td>\n",
       "    </tr>\n",
       "    <tr>\n",
       "      <th>4</th>\n",
       "      <td>5</td>\n",
       "      <td>Volkswagen Vento 1.2 TSI Highline AT</td>\n",
       "      <td>7.66</td>\n",
       "      <td>49719.0</td>\n",
       "      <td>Petrol</td>\n",
       "      <td>Automatic</td>\n",
       "      <td>1</td>\n",
       "      <td>2017.0</td>\n",
       "      <td>1197.0</td>\n",
       "      <td>5.0</td>\n",
       "    </tr>\n",
       "    <tr>\n",
       "      <th>...</th>\n",
       "      <td>...</td>\n",
       "      <td>...</td>\n",
       "      <td>...</td>\n",
       "      <td>...</td>\n",
       "      <td>...</td>\n",
       "      <td>...</td>\n",
       "      <td>...</td>\n",
       "      <td>...</td>\n",
       "      <td>...</td>\n",
       "      <td>...</td>\n",
       "    </tr>\n",
       "    <tr>\n",
       "      <th>5466</th>\n",
       "      <td>5525</td>\n",
       "      <td>BMW X1 sDrive 20d xLine</td>\n",
       "      <td>28.90</td>\n",
       "      <td>45000.0</td>\n",
       "      <td>Diesel</td>\n",
       "      <td>Automatic</td>\n",
       "      <td>1</td>\n",
       "      <td>2018.0</td>\n",
       "      <td>2995.0</td>\n",
       "      <td>7.0</td>\n",
       "    </tr>\n",
       "    <tr>\n",
       "      <th>5467</th>\n",
       "      <td>5526</td>\n",
       "      <td>BMW M Series M4 Coupe</td>\n",
       "      <td>64.90</td>\n",
       "      <td>29000.0</td>\n",
       "      <td>Petrol</td>\n",
       "      <td>Automatic</td>\n",
       "      <td>2</td>\n",
       "      <td>2015.0</td>\n",
       "      <td>1968.0</td>\n",
       "      <td>5.0</td>\n",
       "    </tr>\n",
       "    <tr>\n",
       "      <th>5468</th>\n",
       "      <td>5527</td>\n",
       "      <td>Jaguar XF 2.2 Litre Luxury</td>\n",
       "      <td>13.75</td>\n",
       "      <td>90000.0</td>\n",
       "      <td>Diesel</td>\n",
       "      <td>Automatic</td>\n",
       "      <td>2</td>\n",
       "      <td>2013.0</td>\n",
       "      <td>2755.0</td>\n",
       "      <td>5.0</td>\n",
       "    </tr>\n",
       "    <tr>\n",
       "      <th>5469</th>\n",
       "      <td>5528</td>\n",
       "      <td>BMW 7 Series 730Ld</td>\n",
       "      <td>29.90</td>\n",
       "      <td>79000.0</td>\n",
       "      <td>Diesel</td>\n",
       "      <td>Automatic</td>\n",
       "      <td>3</td>\n",
       "      <td>2015.0</td>\n",
       "      <td>2967.0</td>\n",
       "      <td>6.0</td>\n",
       "    </tr>\n",
       "    <tr>\n",
       "      <th>5470</th>\n",
       "      <td>5529</td>\n",
       "      <td>BMW 5 Series 520d M Sport</td>\n",
       "      <td>31.90</td>\n",
       "      <td>42000.0</td>\n",
       "      <td>Diesel</td>\n",
       "      <td>Automatic</td>\n",
       "      <td>2</td>\n",
       "      <td>2017.0</td>\n",
       "      <td>1991.0</td>\n",
       "      <td>5.0</td>\n",
       "    </tr>\n",
       "  </tbody>\n",
       "</table>\n",
       "<p>5471 rows × 10 columns</p>\n",
       "</div>"
      ],
      "text/plain": [
       "      Unnamed: 0                                car_name  car_prices_in_rupee   \n",
       "0              0  Jeep Compass 2.0 Longitude Option BSIV                10.03  \\\n",
       "1              1            Renault Duster RXZ Turbo CVT                12.83   \n",
       "2              2                      Toyota Camry 2.5 G                16.40   \n",
       "3              4        Volkswagen Polo 1.2 MPI Highline                 5.15   \n",
       "4              5    Volkswagen Vento 1.2 TSI Highline AT                 7.66   \n",
       "...          ...                                     ...                  ...   \n",
       "5466        5525                 BMW X1 sDrive 20d xLine                28.90   \n",
       "5467        5526                   BMW M Series M4 Coupe                64.90   \n",
       "5468        5527              Jaguar XF 2.2 Litre Luxury                13.75   \n",
       "5469        5528                      BMW 7 Series 730Ld                29.90   \n",
       "5470        5529               BMW 5 Series 520d M Sport                31.90   \n",
       "\n",
       "      kms_driven fuel_type transmission  ownership  manufacture  engine  Seats  \n",
       "0        86226.0    Diesel       Manual          1       2017.0  1956.0    5.0  \n",
       "1        13248.0    Petrol    Automatic          1       2021.0  1330.0    5.0  \n",
       "2        60343.0    Petrol    Automatic          1       2016.0  2494.0    5.0  \n",
       "3        69414.0    Petrol       Manual          1       2016.0  1199.0    5.0  \n",
       "4        49719.0    Petrol    Automatic          1       2017.0  1197.0    5.0  \n",
       "...          ...       ...          ...        ...          ...     ...    ...  \n",
       "5466     45000.0    Diesel    Automatic          1       2018.0  2995.0    7.0  \n",
       "5467     29000.0    Petrol    Automatic          2       2015.0  1968.0    5.0  \n",
       "5468     90000.0    Diesel    Automatic          2       2013.0  2755.0    5.0  \n",
       "5469     79000.0    Diesel    Automatic          3       2015.0  2967.0    6.0  \n",
       "5470     42000.0    Diesel    Automatic          2       2017.0  1991.0    5.0  \n",
       "\n",
       "[5471 rows x 10 columns]"
      ]
     },
     "execution_count": 2,
     "metadata": {},
     "output_type": "execute_result"
    }
   ],
   "source": [
    "# use pandas to import csv file\n",
    "df = pd.read_csv(\"clean2_car_price.csv\")\n",
    "# too see max columns\n",
    "pd.set_option('display.max_columns',None)\n",
    "# print dataframe\n",
    "df"
   ]
  },
  {
   "cell_type": "code",
   "execution_count": 3,
   "metadata": {},
   "outputs": [
    {
     "name": "stdout",
     "output_type": "stream",
     "text": [
      "<class 'pandas.core.frame.DataFrame'>\n",
      "RangeIndex: 5471 entries, 0 to 5470\n",
      "Data columns (total 10 columns):\n",
      " #   Column               Non-Null Count  Dtype  \n",
      "---  ------               --------------  -----  \n",
      " 0   Unnamed: 0           5471 non-null   int64  \n",
      " 1   car_name             5471 non-null   object \n",
      " 2   car_prices_in_rupee  5471 non-null   float64\n",
      " 3   kms_driven           5471 non-null   float64\n",
      " 4   fuel_type            5471 non-null   object \n",
      " 5   transmission         5471 non-null   object \n",
      " 6   ownership            5471 non-null   int64  \n",
      " 7   manufacture          5471 non-null   float64\n",
      " 8   engine               5471 non-null   float64\n",
      " 9   Seats                5471 non-null   float64\n",
      "dtypes: float64(5), int64(2), object(3)\n",
      "memory usage: 427.5+ KB\n"
     ]
    }
   ],
   "source": [
    "df.info()"
   ]
  },
  {
   "cell_type": "code",
   "execution_count": 4,
   "metadata": {},
   "outputs": [
    {
     "name": "stdout",
     "output_type": "stream",
     "text": [
      "Unnamed: 0             0\n",
      "car_name               0\n",
      "car_prices_in_rupee    0\n",
      "kms_driven             0\n",
      "fuel_type              0\n",
      "transmission           0\n",
      "ownership              0\n",
      "manufacture            0\n",
      "engine                 0\n",
      "Seats                  0\n",
      "dtype: int64\n",
      "Missing values distribution: \n",
      "Unnamed: 0             0.0\n",
      "car_name               0.0\n",
      "car_prices_in_rupee    0.0\n",
      "kms_driven             0.0\n",
      "fuel_type              0.0\n",
      "transmission           0.0\n",
      "ownership              0.0\n",
      "manufacture            0.0\n",
      "engine                 0.0\n",
      "Seats                  0.0\n",
      "dtype: float64\n"
     ]
    }
   ],
   "source": [
    "#New dataframe \n",
    "new_df = df\n",
    "#Checking for null values \n",
    "print(new_df.isnull().sum()) \n",
    "print(\"Missing values distribution: \")\n",
    "print(new_df.isnull().mean())"
   ]
  },
  {
   "cell_type": "code",
   "execution_count": 5,
   "metadata": {},
   "outputs": [
    {
     "name": "stdout",
     "output_type": "stream",
     "text": [
      "False\n"
     ]
    }
   ],
   "source": [
    "# #Checking for duplicates\n",
    "print(new_df.duplicated().any()) "
   ]
  },
  {
   "cell_type": "code",
   "execution_count": 6,
   "metadata": {},
   "outputs": [
    {
     "name": "stdout",
     "output_type": "stream",
     "text": [
      "0       False\n",
      "1       False\n",
      "2       False\n",
      "3       False\n",
      "4       False\n",
      "        ...  \n",
      "5466    False\n",
      "5467    False\n",
      "5468    False\n",
      "5469    False\n",
      "5470    False\n",
      "Length: 5471, dtype: bool\n",
      "(5471, 10)\n"
     ]
    }
   ],
   "source": [
    "print(new_df.duplicated())\n",
    "print(new_df.shape) "
   ]
  },
  {
   "cell_type": "code",
   "execution_count": 12,
   "metadata": {},
   "outputs": [
    {
     "name": "stdout",
     "output_type": "stream",
     "text": [
      "['Manual' 'Automatic']\n"
     ]
    }
   ],
   "source": [
    "#Finding unique values in \"Region\" \n",
    "print(new_df[\"transmission\"].unique()) "
   ]
  },
  {
   "cell_type": "code",
   "execution_count": 13,
   "metadata": {},
   "outputs": [
    {
     "name": "stdout",
     "output_type": "stream",
     "text": [
      "   Unnamed: 0                                car_name  car_prices_in_rupee   \n",
      "0           0  Jeep Compass 2.0 Longitude Option BSIV                10.03  \\\n",
      "1           1            Renault Duster RXZ Turbo CVT                12.83   \n",
      "2           2                      Toyota Camry 2.5 G                16.40   \n",
      "3           4        Volkswagen Polo 1.2 MPI Highline                 5.15   \n",
      "4           5    Volkswagen Vento 1.2 TSI Highline AT                 7.66   \n",
      "\n",
      "   kms_driven fuel_type transmission  ownership  manufacture  engine  Seats  \n",
      "0     86226.0    Diesel            1          1       2017.0  1956.0    5.0  \n",
      "1     13248.0    Petrol            0          1       2021.0  1330.0    5.0  \n",
      "2     60343.0    Petrol            0          1       2016.0  2494.0    5.0  \n",
      "3     69414.0    Petrol            1          1       2016.0  1199.0    5.0  \n",
      "4     49719.0    Petrol            0          1       2017.0  1197.0    5.0  \n"
     ]
    }
   ],
   "source": [
    "#Replacing string values with integer \n",
    "new_df[\"transmission\"].replace({\"Manual\":\"1\", \"Automatic\":\"0\"}, inplace = True) \n",
    "print(new_df.head())"
   ]
  },
  {
   "cell_type": "code",
   "execution_count": 14,
   "metadata": {},
   "outputs": [
    {
     "name": "stdout",
     "output_type": "stream",
     "text": [
      "['Diesel' 'Petrol' 'Cng' 'Electric' 'Lpg']\n"
     ]
    }
   ],
   "source": [
    "#Finding unique values in \"Region\" \n",
    "print(new_df[\"fuel_type\"].unique()) "
   ]
  },
  {
   "cell_type": "code",
   "execution_count": 15,
   "metadata": {},
   "outputs": [
    {
     "name": "stdout",
     "output_type": "stream",
     "text": [
      "   Unnamed: 0                                car_name  car_prices_in_rupee   \n",
      "0           0  Jeep Compass 2.0 Longitude Option BSIV                10.03  \\\n",
      "1           1            Renault Duster RXZ Turbo CVT                12.83   \n",
      "2           2                      Toyota Camry 2.5 G                16.40   \n",
      "3           4        Volkswagen Polo 1.2 MPI Highline                 5.15   \n",
      "4           5    Volkswagen Vento 1.2 TSI Highline AT                 7.66   \n",
      "\n",
      "   kms_driven fuel_type transmission  ownership  manufacture  engine  Seats  \n",
      "0     86226.0         0            1          1       2017.0  1956.0    5.0  \n",
      "1     13248.0         1            0          1       2021.0  1330.0    5.0  \n",
      "2     60343.0         1            0          1       2016.0  2494.0    5.0  \n",
      "3     69414.0         1            1          1       2016.0  1199.0    5.0  \n",
      "4     49719.0         1            0          1       2017.0  1197.0    5.0  \n"
     ]
    }
   ],
   "source": [
    "#Replacing string values with integer \n",
    "new_df[\"fuel_type\"].replace({\"Diesel\":\"0\", \"Petrol\":\"1\", \"Cng\":\"2\", \"Electric\":\"3\", \"Lpg\":\"4\"}, inplace = True) \n",
    "print(new_df.head())"
   ]
  },
  {
   "cell_type": "code",
   "execution_count": 19,
   "metadata": {},
   "outputs": [
    {
     "name": "stdout",
     "output_type": "stream",
     "text": [
      "(5471, 10)\n",
      "   Unnamed: 0                                car_name  car_prices_in_rupee   \n",
      "0           0  Jeep Compass 2.0 Longitude Option BSIV                10.03  \\\n",
      "1           1            Renault Duster RXZ Turbo CVT                12.83   \n",
      "2           2                      Toyota Camry 2.5 G                16.40   \n",
      "3           4        Volkswagen Polo 1.2 MPI Highline                 5.15   \n",
      "4           5    Volkswagen Vento 1.2 TSI Highline AT                 7.66   \n",
      "\n",
      "   kms_driven fuel_type transmission  ownership  manufacture  engine  Seats  \n",
      "0     86226.0         0            1          1       2017.0  1956.0    5.0  \n",
      "1     13248.0         1            0          1       2021.0  1330.0    5.0  \n",
      "2     60343.0         1            0          1       2016.0  2494.0    5.0  \n",
      "3     69414.0         1            1          1       2016.0  1199.0    5.0  \n",
      "4     49719.0         1            0          1       2017.0  1197.0    5.0  \n"
     ]
    }
   ],
   "source": [
    "#Describing data after preprocessing \n",
    "print(new_df.shape) \n",
    "print(new_df.head())"
   ]
  },
  {
   "cell_type": "code",
   "execution_count": 20,
   "metadata": {},
   "outputs": [
    {
     "data": {
      "image/png": "[encoded data removed]",
      "text/plain": [
       "<Figure size 600x600 with 1 Axes>"
      ]
     },
     "metadata": {},
     "output_type": "display_data"
    }
   ],
   "source": [
    "\n",
    "new_df.transmission.value_counts()\n",
    "plt.figure(figsize=(6,6))\n",
    "sns.countplot(x='transmission', data=new_df)\n",
    "plt.title('transmission')\n",
    "plt.show()"
   ]
  },
  {
   "cell_type": "code",
   "execution_count": 21,
   "metadata": {},
   "outputs": [],
   "source": [
    "from sklearn.datasets import make_classification\n",
    "X, y = make_classification(n_classes=2, class_sep=0.5,\n",
    "weights=[0.05, 0.95], n_informative=2, n_redundant=0, flip_y=0,\n",
    "n_features=2, n_clusters_per_class=1, n_samples=1000, random_state=10)"
   ]
  },
  {
   "cell_type": "code",
   "execution_count": 22,
   "metadata": {},
   "outputs": [],
   "source": [
    "from sklearn.model_selection import train_test_split\n",
    "  \n",
    "# split into 70:30 ration\n",
    "X_train, X_test, y_train, y_test = train_test_split(X, y, test_size = 0.3, random_state = 0)"
   ]
  },
  {
   "cell_type": "code",
   "execution_count": 25,
   "metadata": {},
   "outputs": [],
   "source": [
    "from imblearn.over_sampling import SMOTE\n",
    "sm = SMOTE(random_state=42)\n",
    "X_res, y_res = sm.fit_resample(X_train, y_train)"
   ]
  },
  {
   "cell_type": "code",
   "execution_count": 26,
   "metadata": {},
   "outputs": [
    {
     "name": "stdout",
     "output_type": "stream",
     "text": [
      "Number transactions X_train dataset:  (700, 2)\n",
      "Number transactions y_train dataset:  (700,)\n",
      "Number transactions X_test dataset:  (300, 2)\n",
      "Number transactions y_test dataset:  (300,)\n"
     ]
    }
   ],
   "source": [
    "# describes info about train and test set\n",
    "print(\"Number transactions X_train dataset: \", X_train.shape)\n",
    "print(\"Number transactions y_train dataset: \", y_train.shape)\n",
    "print(\"Number transactions X_test dataset: \", X_test.shape)\n",
    "print(\"Number transactions y_test dataset: \", y_test.shape)"
   ]
  },
  {
   "cell_type": "code",
   "execution_count": null,
   "metadata": {},
   "outputs": [],
   "source": []
  }
 ],
 "metadata": {
  "kernelspec": {
   "display_name": "Python 3",
   "language": "python",
   "name": "python3"
  },
  "language_info": {
   "codemirror_mode": {
    "name": "ipython",
    "version": 3
   },
   "file_extension": ".py",
   "mimetype": "text/x-python",
   "name": "python",
   "nbconvert_exporter": "python",
   "pygments_lexer": "ipython3",
   "version": "3.10.2"
  }
 },
 "nbformat": 4,
 "nbformat_minor": 2
}
