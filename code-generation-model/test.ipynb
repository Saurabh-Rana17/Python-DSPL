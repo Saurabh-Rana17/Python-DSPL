{
 "cells": [
  {
   "cell_type": "code",
   "execution_count": 1,
   "metadata": {},
   "outputs": [
    {
     "name": "stdout",
     "output_type": "stream",
     "text": [
      "Dataset saved to javascript_snippets.csv\n"
     ]
    }
   ],
   "source": [
    "import csv\n",
    "\n",
    "data = [\n",
    "    {\"keyword\": \"variable declaration\", \"code\": \"var x = 5;\"},\n",
    "    {\"keyword\": \"function declaration\", \"code\": \"function myFunction() {\\n  // code here\\n}\"},\n",
    "    {\"keyword\": \"if statement\", \"code\": \"if (condition) {\\n  // code here\\n} else {\\n  // code here\\n}\"},\n",
    "    {\"keyword\": \"for loop\", \"code\": \"for (var i = 0; i < 10; i++) {\\n  // code here\\n}\"},\n",
    "    {\"keyword\": \"while loop\", \"code\": \"while (condition) {\\n  // code here\\n}\"},\n",
    "    {\"keyword\": \"switch statement\", \"code\": \"switch (expression) {\\n  case value1:\\n    // code here\\n    break;\\n  case value2:\\n    // code here\\n    break;\\n  default:\\n    // code here\\n}\"},\n",
    "    {\"keyword\": \"array declaration\", \"code\": \"var arr = [1, 2, 3];\"},\n",
    "    {\"keyword\": \"object declaration\", \"code\": \"var obj = {key: value};\"},\n",
    "    {\"keyword\": \"arrow function declaration\", \"code\": \"var myFunc = () => {\\n  // code here\\n}\"},\n",
    "    {\"keyword\": \"template literals\", \"code\": \"var name = 'John';\\nconsole.log(`Hello, ${name}!`);\"}\n",
    "]\n",
    "\n",
    "csv_file_path = \"javascript_snippets.csv\"\n",
    "\n",
    "with open(csv_file_path, \"w\", newline=\"\", encoding=\"utf-8\") as csvfile:\n",
    "    fieldnames = [\"keyword\", \"code\"]\n",
    "    writer = csv.DictWriter(csvfile, fieldnames=fieldnames)\n",
    "    \n",
    "    writer.writeheader()\n",
    "    for item in data:\n",
    "        writer.writerow(item)\n",
    "\n",
    "print(f\"Dataset saved to {csv_file_path}\")\n"
   ]
  },
  {
   "cell_type": "code",
   "execution_count": 14,
   "metadata": {},
   "outputs": [
    {
     "name": "stdout",
     "output_type": "stream",
     "text": [
      "Training accuracy: 1.0\n",
      "Testing accuracy: 0.0\n",
      "Predicted code: if (condition) {\n",
      "  // code here\n",
      "} else {\n",
      "  // code here\n",
      "}\n"
     ]
    }
   ],
   "source": [
    "import pandas as pd\n",
    "from sklearn.model_selection import train_test_split\n",
    "from sklearn.feature_extraction.text import CountVectorizer\n",
    "from sklearn.pipeline import Pipeline\n",
    "from sklearn.ensemble import RandomForestClassifier\n",
    "from sklearn.metrics import accuracy_score\n",
    "\n",
    "# Load the dataset\n",
    "data = pd.read_csv(\"javascript_snippets.csv\")\n",
    "\n",
    "# Split data into input (X) and output (y)\n",
    "X = data[\"keyword\"]\n",
    "y = data[\"code\"]\n",
    "\n",
    "# Split the dataset into training and testing sets\n",
    "X_train, X_test, y_train, y_test = train_test_split(X, y, test_size=0.2, random_state=42)\n",
    "\n",
    "# Define a pipeline to convert keywords to numerical features and train a random forest classifier\n",
    "pipeline = Pipeline([\n",
    "    (\"vectorizer\", CountVectorizer()),\n",
    "    (\"model\", RandomForestClassifier(random_state=42))\n",
    "])\n",
    "\n",
    "# Train the model\n",
    "pipeline.fit(X_train, y_train)\n",
    "\n",
    "# Evaluate the model\n",
    "train_accuracy = accuracy_score(y_train, pipeline.predict(X_train))\n",
    "test_accuracy = accuracy_score(y_test, pipeline.predict(X_test))\n",
    "print(\"Training accuracy:\", train_accuracy)\n",
    "print(\"Testing accuracy:\", test_accuracy)\n",
    "\n",
    "# Example inference\n",
    "keyword_input = \"conditional statement in js\"\n",
    "predicted_code = pipeline.predict([keyword_input])\n",
    "print(\"Predicted code:\", predicted_code[0])\n"
   ]
  },
  {
   "cell_type": "code",
   "execution_count": null,
   "metadata": {},
   "outputs": [],
   "source": []
  }
 ],
 "metadata": {
  "kernelspec": {
   "display_name": "Python 3",
   "language": "python",
   "name": "python3"
  },
  "language_info": {
   "codemirror_mode": {
    "name": "ipython",
    "version": 3
   },
   "file_extension": ".py",
   "mimetype": "text/x-python",
   "name": "python",
   "nbconvert_exporter": "python",
   "pygments_lexer": "ipython3",
   "version": "3.12.2"
  }
 },
 "nbformat": 4,
 "nbformat_minor": 2
}
