{
 "cells": [
  {
   "cell_type": "code",
   "execution_count": 2,
   "id": "14591827",
   "metadata": {},
   "outputs": [],
   "source": [
    "# import the libraries\n",
    "import pandas as pd\n",
    "import numpy as np"
   ]
  },
  {
   "cell_type": "code",
   "execution_count": 3,
   "id": "3a3a037e",
   "metadata": {},
   "outputs": [],
   "source": [
    "# read csv\n",
    "df = pd.read_csv(\"test1Working.csv\") "
   ]
  },
  {
   "cell_type": "code",
   "execution_count": 4,
   "id": "a21a497a",
   "metadata": {},
   "outputs": [
    {
     "name": "stdout",
     "output_type": "stream",
     "text": [
      "(10998, 9)\n"
     ]
    }
   ],
   "source": [
    "# To print no. of samples and attributes\n",
    "print(df.shape)"
   ]
  },
  {
   "cell_type": "code",
   "execution_count": 5,
   "id": "85a6e3d7",
   "metadata": {},
   "outputs": [
    {
     "name": "stdout",
     "output_type": "stream",
     "text": [
      "['Date', 'Time', 'Global_active_power', 'Global_reactive_power', 'Voltage', 'Global_intensity', 'Sub_metering_1', 'Sub_metering_2', 'Sub_metering_3']\n"
     ]
    }
   ],
   "source": [
    "# getting the columns of the dataset\n",
    "columns = list(df.columns)\n",
    "print(columns)"
   ]
  },
  {
   "cell_type": "code",
   "execution_count": 6,
   "id": "9555bc50",
   "metadata": {},
   "outputs": [
    {
     "name": "stdout",
     "output_type": "stream",
     "text": [
      "         Date      Time Global_active_power Global_reactive_power  Voltage  \\\n",
      "0  16/12/2006  17:24:00               4.216                 0.418  234.840   \n",
      "1  16/12/2006  17:25:00               5.360                 0.436  233.630   \n",
      "2  16/12/2006  17:26:00               5.374                 0.498  233.290   \n",
      "3  16/12/2006  17:27:00               5.388                 0.502  233.740   \n",
      "4  16/12/2006  17:28:00               3.666                 0.528  235.680   \n",
      "\n",
      "  Global_intensity Sub_metering_1 Sub_metering_2  Sub_metering_3  \n",
      "0           18.400          0.000          1.000            17.0  \n",
      "1           23.000          0.000          1.000            16.0  \n",
      "2           23.000          0.000          2.000            17.0  \n",
      "3           23.000          0.000          1.000            17.0  \n",
      "4           15.800          0.000          1.000            17.0  \n"
     ]
    }
   ],
   "source": [
    "# To print first five samples\n",
    "print(df.head())"
   ]
  },
  {
   "cell_type": "code",
   "execution_count": 7,
   "id": "3c121e96",
   "metadata": {},
   "outputs": [
    {
     "name": "stdout",
     "output_type": "stream",
     "text": [
      "       Sub_metering_3\n",
      "count    10996.000000\n",
      "mean         8.287832\n",
      "std          8.733173\n",
      "min          0.000000\n",
      "25%          0.000000\n",
      "50%          0.000000\n",
      "75%         17.000000\n",
      "max         20.000000\n"
     ]
    }
   ],
   "source": [
    "#Describing dataset \n",
    "print(df.describe()) "
   ]
  },
  {
   "cell_type": "code",
   "execution_count": 8,
   "id": "9be19556",
   "metadata": {},
   "outputs": [
    {
     "name": "stdout",
     "output_type": "stream",
     "text": [
      "------------------------------\n",
      "        Date   Time  Global_active_power  Global_reactive_power  Voltage  \\\n",
      "0      False  False                False                  False    False   \n",
      "1      False  False                False                  False    False   \n",
      "2      False  False                False                  False    False   \n",
      "3      False  False                False                  False    False   \n",
      "4      False  False                False                  False    False   \n",
      "...      ...    ...                  ...                    ...      ...   \n",
      "10993  False  False                False                  False    False   \n",
      "10994  False  False                False                  False    False   \n",
      "10995  False  False                False                  False    False   \n",
      "10996  False  False                False                  False    False   \n",
      "10997  False  False                False                  False    False   \n",
      "\n",
      "       Global_intensity  Sub_metering_1  Sub_metering_2  Sub_metering_3  \n",
      "0                 False           False           False           False  \n",
      "1                 False           False           False           False  \n",
      "2                 False           False           False           False  \n",
      "3                 False           False           False           False  \n",
      "4                 False           False           False           False  \n",
      "...                 ...             ...             ...             ...  \n",
      "10993             False           False           False           False  \n",
      "10994             False           False           False           False  \n",
      "10995             False           False           False           False  \n",
      "10996             False           False           False           False  \n",
      "10997             False           False           False           False  \n",
      "\n",
      "[10998 rows x 9 columns]\n",
      "------------------------------\n",
      "Date                     0.000000\n",
      "Time                     0.000000\n",
      "Global_active_power      0.000000\n",
      "Global_reactive_power    0.000000\n",
      "Voltage                  0.000000\n",
      "Global_intensity         0.000000\n",
      "Sub_metering_1           0.000000\n",
      "Sub_metering_2           0.000000\n",
      "Sub_metering_3           0.000182\n",
      "dtype: float64\n",
      "------------------------------\n",
      "True\n"
     ]
    }
   ],
   "source": [
    "#New dataframe \n",
    "new_df = df\n",
    "#Checking for null values\n",
    "print(\"------------------------------\")\n",
    "print(new_df.isnull())\n",
    "print(\"------------------------------\")\n",
    "# print(\"Missing values distribution: \")\n",
    "print(new_df.isnull().mean())\n",
    "print(\"------------------------------\")\n",
    "print(df.isnull().values.any())"
   ]
  },
  {
   "cell_type": "code",
   "execution_count": 9,
   "id": "8ce336fc",
   "metadata": {},
   "outputs": [
    {
     "name": "stdout",
     "output_type": "stream",
     "text": [
      "------------------------------\n",
      "False\n",
      "------------------------------\n",
      "0        False\n",
      "1        False\n",
      "2        False\n",
      "3        False\n",
      "4        False\n",
      "         ...  \n",
      "10993    False\n",
      "10994    False\n",
      "10995    False\n",
      "10996    False\n",
      "10997    False\n",
      "Length: 10998, dtype: bool\n"
     ]
    }
   ],
   "source": [
    "# #Checking for duplicates\n",
    "print(\"------------------------------\")\n",
    "print(new_df.duplicated().any()) \n",
    "print(\"------------------------------\")\n",
    "print(new_df.duplicated())"
   ]
  },
  {
   "cell_type": "code",
   "execution_count": 10,
   "id": "4745c3ed",
   "metadata": {},
   "outputs": [
    {
     "name": "stdout",
     "output_type": "stream",
     "text": [
      "Column datatypes: \n",
      "Date                     float64\n",
      "Time                      object\n",
      "Global_active_power      float64\n",
      "Global_reactive_power    float64\n",
      "Voltage                  float64\n",
      "Global_intensity          object\n",
      "Sub_metering_1            object\n",
      "Sub_metering_2            object\n",
      "Sub_metering_3           float64\n",
      "dtype: object\n",
      "0        False\n",
      "1        False\n",
      "2        False\n",
      "3        False\n",
      "4        False\n",
      "         ...  \n",
      "10993    False\n",
      "10994    False\n",
      "10995    False\n",
      "10996    False\n",
      "10997    False\n",
      "Name: Voltage, Length: 10998, dtype: bool\n"
     ]
    }
   ],
   "source": [
    "print(\"Column datatypes: \")\n",
    "new_df['Voltage'] = pd.to_numeric(new_df['Voltage'], errors='coerce')\n",
    "new_df['Voltage'] = new_df['Voltage'].astype(float)\n",
    "\n",
    "new_df['Global_active_power'] = pd.to_numeric(new_df['Global_active_power'], errors='coerce')\n",
    "new_df['Global_active_power'] = new_df['Global_active_power'].astype(float)\n",
    "\n",
    "new_df['Global_reactive_power'] = pd.to_numeric(new_df['Global_reactive_power'], errors='coerce')\n",
    "new_df['Global_reactive_power'] = new_df['Global_reactive_power'].astype(float)\n",
    "\n",
    "new_df['Date'] = pd.to_numeric(new_df['Date'], errors='coerce')\n",
    "new_df['Date'] = new_df['Date'].astype(float)\n",
    "print(new_df.dtypes)\n",
    "print(new_df[\"Voltage\"].isnull())\n"
   ]
  },
  {
   "cell_type": "code",
   "execution_count": 11,
   "id": "be1b40b9",
   "metadata": {},
   "outputs": [
    {
     "name": "stdout",
     "output_type": "stream",
     "text": [
      "[234.84 233.63 233.29 ... 248.17 248.16 248.  ]\n"
     ]
    }
   ],
   "source": [
    "#Finding unique values in \"Voltage\" \n",
    "print(new_df[\"Voltage\"].unique()) "
   ]
  },
  {
   "cell_type": "code",
   "execution_count": 12,
   "id": "8385cbed",
   "metadata": {},
   "outputs": [
    {
     "name": "stdout",
     "output_type": "stream",
     "text": [
      "(10998, 9)\n",
      "   Date      Time  Global_active_power  Global_reactive_power  Voltage  \\\n",
      "0   NaN  17:24:00                4.216                  0.418   234.84   \n",
      "1   NaN  17:25:00                5.360                  0.436   233.63   \n",
      "2   NaN  17:26:00                5.374                  0.498   233.29   \n",
      "3   NaN  17:27:00                5.388                  0.502   233.74   \n",
      "4   NaN  17:28:00                3.666                  0.528   235.68   \n",
      "\n",
      "  Global_intensity Sub_metering_1 Sub_metering_2  Sub_metering_3  \n",
      "0           18.400          0.000          1.000            17.0  \n",
      "1           23.000          0.000          1.000            16.0  \n",
      "2           23.000          0.000          2.000            17.0  \n",
      "3           23.000          0.000          1.000            17.0  \n",
      "4           15.800          0.000          1.000            17.0  \n"
     ]
    }
   ],
   "source": [
    "#Describing data after preprocessing \n",
    "print(new_df.shape) \n",
    "print(new_df.head())"
   ]
  },
  {
   "cell_type": "code",
   "execution_count": 14,
   "id": "8d59b4a1",
   "metadata": {},
   "outputs": [],
   "source": [
    "new_df.to_csv('datasetForExp2andExp3.csv', index=False)"
   ]
  }
 ],
 "metadata": {
  "kernelspec": {
   "display_name": "Python 3 (ipykernel)",
   "language": "python",
   "name": "python3"
  },
  "language_info": {
   "codemirror_mode": {
    "name": "ipython",
    "version": 3
   },
   "file_extension": ".py",
   "mimetype": "text/x-python",
   "name": "python",
   "nbconvert_exporter": "python",
   "pygments_lexer": "ipython3",
   "version": "3.9.13"
  }
 },
 "nbformat": 4,
 "nbformat_minor": 5
}
