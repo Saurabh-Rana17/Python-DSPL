{
 "cells": [
  {
   "cell_type": "code",
   "execution_count": 2,
   "metadata": {},
   "outputs": [],
   "source": [
    "import warnings\n",
    "warnings.filterwarnings('ignore')\n"
   ]
  },
  {
   "cell_type": "code",
   "execution_count": 3,
   "metadata": {},
   "outputs": [
    {
     "name": "stdout",
     "output_type": "stream",
     "text": [
      "Mean Squared Error: 8.369012013302035\n",
      "Root Mean Squared Error: 2.8929244741786873\n",
      "Mean Absolute Error: 2.1072191665582714\n",
      "R-squared: 0.5662986352801112\n"
     ]
    }
   ],
   "source": [
    "# Import necessary libraries\n",
    "import pandas as pd\n",
    "from sklearn.model_selection import train_test_split\n",
    "from sklearn.linear_model import LinearRegression\n",
    "from sklearn.metrics import mean_squared_error, mean_absolute_error\n",
    "\n",
    "# Load the dataset\n",
    "data = pd.read_csv('clean6_car_price.csv')\n",
    "\n",
    "# Drop unnecessary columns (like index or irrelevant features)\n",
    "data.drop(['Unnamed: 0', 'car_name'], axis=1, inplace=True)\n",
    "\n",
    "# Split the data into features and target variable\n",
    "X = data[['engine', 'manufacture','Seats','kms_driven','ownership','fuel_type','transmission']]\n",
    "\n",
    "y = data['car_prices_in_rupee']\n",
    "\n",
    "# Split data into train and test sets\n",
    "X_train, X_test, y_train, y_test = train_test_split(X, y, test_size=0.2, random_state=42)\n",
    "\n",
    "# Initialize the Linear Regression model\n",
    "model = LinearRegression()\n",
    "\n",
    "# Train the model\n",
    "model.fit(X_train, y_train)\n",
    "\n",
    "# Make predictions on the test set\n",
    "predictions = model.predict(X_test)\n",
    "\n",
    "# Evaluate the model\n",
    "mse = mean_squared_error(y_test, predictions)\n",
    "rmse = mean_squared_error(y_test, predictions, squared=False)\n",
    "mae = mean_absolute_error(y_test, predictions)\n",
    "\n",
    "print(\"Mean Squared Error:\", mse)\n",
    "print(\"Root Mean Squared Error:\", rmse)\n",
    "print(\"Mean Absolute Error:\", mae)\n",
    "\n",
    "import matplotlib.pyplot as plt\n",
    "\n",
    "\n",
    "# Get R-squared value\n",
    "r_squared = model.score(X_test, y_test)\n",
    "print(\"R-squared:\", r_squared)\n",
    "\n",
    "\n"
   ]
  },
  {
   "cell_type": "code",
   "execution_count": 4,
   "metadata": {},
   "outputs": [
    {
     "name": "stdout",
     "output_type": "stream",
     "text": [
      "Percentage of predictions within ±5=% of actual prices: 84.42%\n"
     ]
    }
   ],
   "source": [
    "import numpy as np\n",
    "\n",
    "# Define a tolerance level (e.g., ±8% of the actual price)\n",
    "tolerance = 0.5\n",
    "\n",
    "# Calculate the absolute percentage error for each prediction\n",
    "absolute_percentage_error = np.abs(predictions - y_test) / y_test\n",
    "\n",
    "# Calculate the percentage of predictions within the tolerance\n",
    "percentage_within_tolerance = np.mean(absolute_percentage_error <= tolerance) * 100\n",
    "\n",
    "print(\"Percentage of predictions within ±5=% of actual prices: {:.2f}%\".format( percentage_within_tolerance))\n"
   ]
  },
  {
   "cell_type": "code",
   "execution_count": null,
   "metadata": {},
   "outputs": [],
   "source": []
  }
 ],
 "metadata": {
  "kernelspec": {
   "display_name": "Python 3",
   "language": "python",
   "name": "python3"
  },
  "language_info": {
   "codemirror_mode": {
    "name": "ipython",
    "version": 3
   },
   "file_extension": ".py",
   "mimetype": "text/x-python",
   "name": "python",
   "nbconvert_exporter": "python",
   "pygments_lexer": "ipython3",
   "version": "3.12.2"
  }
 },
 "nbformat": 4,
 "nbformat_minor": 2
}
