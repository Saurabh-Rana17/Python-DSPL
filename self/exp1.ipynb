{
 "cells": [
  {
   "cell_type": "code",
   "execution_count": 8,
   "metadata": {},
   "outputs": [
    {
     "name": "stdout",
     "output_type": "stream",
     "text": [
      "(5531, 10)\n"
     ]
    }
   ],
   "source": [
    "# import the pandas library\n",
    "import pandas as pd\n",
    "import numpy as np\n",
    "# read csv\n",
    "df = pd.read_csv(\"car_price.csv\") \n",
    "# To print no. of samples and attributes\n",
    "print(df.shape)"
   ]
  },
  {
   "cell_type": "code",
   "execution_count": 9,
   "metadata": {},
   "outputs": [
    {
     "name": "stdout",
     "output_type": "stream",
     "text": [
      "['Unnamed: 0', 'car_name', 'car_prices_in_rupee', 'kms_driven', 'fuel_type', 'transmission', 'ownership', 'manufacture', 'engine', 'Seats']\n"
     ]
    }
   ],
   "source": [
    "# getting the columns of the dataset\n",
    "columns = list(df.columns)\n",
    "print(columns)"
   ]
  },
  {
   "cell_type": "code",
   "execution_count": 10,
   "metadata": {},
   "outputs": [
    {
     "name": "stdout",
     "output_type": "stream",
     "text": [
      "   Unnamed: 0                                car_name  car_prices_in_rupee  \\\n",
      "0           0  Jeep Compass 2.0 Longitude Option BSIV                10.03   \n",
      "1           1            Renault Duster RXZ Turbo CVT                12.83   \n",
      "2           2                      Toyota Camry 2.5 G                16.40   \n",
      "3           2                      Toyota Camry 2.5 G                16.40   \n",
      "4           4        Volkswagen Polo 1.2 MPI Highline                 5.15   \n",
      "\n",
      "   kms_driven fuel_type transmission ownership  manufacture  engine  Seats  \n",
      "0     86226.0    Diesel       Manual       1st       2017.0  1956.0    5.0  \n",
      "1     13248.0    Petrol    Automatic       1st       2021.0  1330.0    5.0  \n",
      "2     60343.0    Petrol    Automatic       1st       2016.0  2494.0    5.0  \n",
      "3     60343.0    Petrol    Automatic       1st       2016.0  2494.0    5.0  \n",
      "4     69414.0    Petrol       Manual       1st       2016.0  1199.0    5.0  \n"
     ]
    }
   ],
   "source": [
    "# To print first five samples\n",
    "print(df.head()) "
   ]
  },
  {
   "cell_type": "code",
   "execution_count": 11,
   "metadata": {},
   "outputs": [
    {
     "name": "stdout",
     "output_type": "stream",
     "text": [
      "        Unnamed: 0  car_prices_in_rupee     kms_driven  manufacture  \\\n",
      "count  5531.000000          5529.000000    5528.000000  5526.000000   \n",
      "mean   2764.999819            11.653418   63159.128799  2015.459645   \n",
      "std    1596.806813            19.688035   41903.587380     3.929066   \n",
      "min       0.000000             1.000000     250.000000  1995.000000   \n",
      "25%    1382.500000             3.150000   33000.000000  2013.000000   \n",
      "50%    2765.000000             5.500000   59000.000000  2016.000000   \n",
      "75%    4147.500000            10.390000   84178.000000  2018.000000   \n",
      "max    5530.000000           192.000000  560000.000000  2022.000000   \n",
      "\n",
      "            engine        Seats  \n",
      "count  5523.000000  5528.000000  \n",
      "mean   1532.563462     5.250543  \n",
      "std     578.961969     0.719598  \n",
      "min       0.000000     2.000000  \n",
      "25%    1197.000000     5.000000  \n",
      "50%    1396.000000     5.000000  \n",
      "75%    1950.000000     5.000000  \n",
      "max    5950.000000     8.000000  \n"
     ]
    }
   ],
   "source": [
    "#Describing dataset \n",
    "print(df.describe()) "
   ]
  },
  {
   "cell_type": "code",
   "execution_count": 12,
   "metadata": {},
   "outputs": [
    {
     "name": "stdout",
     "output_type": "stream",
     "text": [
      "Unnamed: 0             0\n",
      "car_name               0\n",
      "car_prices_in_rupee    2\n",
      "kms_driven             3\n",
      "fuel_type              7\n",
      "transmission           8\n",
      "ownership              7\n",
      "manufacture            5\n",
      "engine                 8\n",
      "Seats                  3\n",
      "dtype: int64\n",
      "Missing values distribution: \n",
      "Unnamed: 0             0.000000\n",
      "car_name               0.000000\n",
      "car_prices_in_rupee    0.000362\n",
      "kms_driven             0.000542\n",
      "fuel_type              0.001266\n",
      "transmission           0.001446\n",
      "ownership              0.001266\n",
      "manufacture            0.000904\n",
      "engine                 0.001446\n",
      "Seats                  0.000542\n",
      "dtype: float64\n"
     ]
    }
   ],
   "source": [
    "#New dataframe \n",
    "new_df = df\n",
    "print(new_df.isnull().sum()) \n",
    "print(\"Missing values distribution: \")\n",
    "print(new_df.isnull().mean())"
   ]
  },
  {
   "cell_type": "code",
   "execution_count": 13,
   "metadata": {},
   "outputs": [
    {
     "name": "stdout",
     "output_type": "stream",
     "text": [
      "True\n",
      "0       False\n",
      "1       False\n",
      "2       False\n",
      "3        True\n",
      "4       False\n",
      "        ...  \n",
      "5526    False\n",
      "5527    False\n",
      "5528    False\n",
      "5529    False\n",
      "5530    False\n",
      "Length: 5531, dtype: bool\n",
      "(5531, 10)\n"
     ]
    }
   ],
   "source": [
    "# #Checking for duplicates\n",
    "print(new_df.duplicated().any()) \n",
    "print(new_df.duplicated())\n",
    "print(new_df.shape) "
   ]
  },
  {
   "cell_type": "code",
   "execution_count": 14,
   "metadata": {},
   "outputs": [
    {
     "name": "stdout",
     "output_type": "stream",
     "text": [
      "Column datatypes: \n",
      "Unnamed: 0               int64\n",
      "car_name                object\n",
      "car_prices_in_rupee    float64\n",
      "kms_driven             float64\n",
      "fuel_type               object\n",
      "transmission            object\n",
      "ownership               object\n",
      "manufacture            float64\n",
      "engine                 float64\n",
      "Seats                  float64\n",
      "dtype: object\n"
     ]
    }
   ],
   "source": [
    "print(\"Column datatypes: \")\n",
    "print(new_df.dtypes)"
   ]
  },
  {
   "cell_type": "code",
   "execution_count": 15,
   "metadata": {},
   "outputs": [
    {
     "name": "stdout",
     "output_type": "stream",
     "text": [
      "   Unnamed: 0                                car_name  car_prices_in_rupee  \\\n",
      "0           0  Jeep Compass 2.0 Longitude Option BSIV                10.03   \n",
      "1           1            Renault Duster RXZ Turbo CVT                12.83   \n",
      "2           2                      Toyota Camry 2.5 G                16.40   \n",
      "3           2                      Toyota Camry 2.5 G                16.40   \n",
      "4           4        Volkswagen Polo 1.2 MPI Highline                 5.15   \n",
      "\n",
      "   kms_driven fuel_type transmission ownership  manufacture  engine  Seats  \n",
      "0     86226.0    Diesel       Manual         1       2017.0  1956.0    5.0  \n",
      "1     13248.0    Petrol    Automatic         1       2021.0  1330.0    5.0  \n",
      "2     60343.0    Petrol    Automatic         1       2016.0  2494.0    5.0  \n",
      "3     60343.0    Petrol    Automatic         1       2016.0  2494.0    5.0  \n",
      "4     69414.0    Petrol       Manual         1       2016.0  1199.0    5.0  \n",
      "(5531, 10)\n",
      "['1' '2' nan '3' '4' '5' '0']\n"
     ]
    }
   ],
   "source": [
    "#Replacing string values with integer \n",
    "new_df[\"ownership\"].replace({\"0th\":\"0\",\"1st\":\"1\",\"2nd\":\"2\",\"3rd\":\"3\",\"4th\":\"4\",\"5th\":\"5\"}, inplace = True) \n",
    "print(new_df.head())\n",
    "print(new_df.shape) \n",
    "#Finding unique values in \"ownership\" \n",
    "print(new_df[\"ownership\"].unique()) "
   ]
  },
  {
   "cell_type": "code",
   "execution_count": 16,
   "metadata": {},
   "outputs": [
    {
     "name": "stdout",
     "output_type": "stream",
     "text": [
      "(5531, 10)\n",
      "   Unnamed: 0                                car_name  car_prices_in_rupee  \\\n",
      "0           0  Jeep Compass 2.0 Longitude Option BSIV                10.03   \n",
      "1           1            Renault Duster RXZ Turbo CVT                12.83   \n",
      "2           2                      Toyota Camry 2.5 G                16.40   \n",
      "3           2                      Toyota Camry 2.5 G                16.40   \n",
      "4           4        Volkswagen Polo 1.2 MPI Highline                 5.15   \n",
      "\n",
      "   kms_driven fuel_type transmission ownership  manufacture  engine  Seats  \n",
      "0     86226.0    Diesel       Manual         1       2017.0  1956.0    5.0  \n",
      "1     13248.0    Petrol    Automatic         1       2021.0  1330.0    5.0  \n",
      "2     60343.0    Petrol    Automatic         1       2016.0  2494.0    5.0  \n",
      "3     60343.0    Petrol    Automatic         1       2016.0  2494.0    5.0  \n",
      "4     69414.0    Petrol       Manual         1       2016.0  1199.0    5.0  \n"
     ]
    }
   ],
   "source": [
    "#Describing data after preprocessing \n",
    "print(new_df.shape) \n",
    "print(new_df.head())"
   ]
  },
  {
   "cell_type": "code",
   "execution_count": 17,
   "metadata": {},
   "outputs": [
    {
     "name": "stdout",
     "output_type": "stream",
     "text": [
      "      Unnamed: 0                                car_name  car_prices_in_rupee  \\\n",
      "0              0  Jeep Compass 2.0 Longitude Option BSIV                10.03   \n",
      "1              1            Renault Duster RXZ Turbo CVT                12.83   \n",
      "2              2                      Toyota Camry 2.5 G                16.40   \n",
      "4              4        Volkswagen Polo 1.2 MPI Highline                 5.15   \n",
      "5              5    Volkswagen Vento 1.2 TSI Highline AT                 7.66   \n",
      "...          ...                                     ...                  ...   \n",
      "5525        5525                 BMW X1 sDrive 20d xLine                28.90   \n",
      "5526        5526                   BMW M Series M4 Coupe                64.90   \n",
      "5527        5527              Jaguar XF 2.2 Litre Luxury                13.75   \n",
      "5528        5528                      BMW 7 Series 730Ld                29.90   \n",
      "5529        5529               BMW 5 Series 520d M Sport                31.90   \n",
      "\n",
      "      kms_driven fuel_type transmission ownership  manufacture  engine  Seats  \n",
      "0        86226.0    Diesel       Manual         1       2017.0  1956.0    5.0  \n",
      "1        13248.0    Petrol    Automatic         1       2021.0  1330.0    5.0  \n",
      "2        60343.0    Petrol    Automatic         1       2016.0  2494.0    5.0  \n",
      "4        69414.0    Petrol       Manual         1       2016.0  1199.0    5.0  \n",
      "5        49719.0    Petrol    Automatic         1       2017.0  1197.0    5.0  \n",
      "...          ...       ...          ...       ...          ...     ...    ...  \n",
      "5525     45000.0    Diesel    Automatic         1       2018.0  2995.0    7.0  \n",
      "5526     29000.0    Petrol    Automatic         2       2015.0  1968.0    5.0  \n",
      "5527     90000.0    Diesel    Automatic         2       2013.0  2755.0    5.0  \n",
      "5528     79000.0    Diesel    Automatic         3       2015.0  2967.0    6.0  \n",
      "5529     42000.0    Diesel    Automatic         2       2017.0  1991.0    5.0  \n",
      "\n",
      "[5502 rows x 10 columns]\n"
     ]
    }
   ],
   "source": [
    "# eliminate null values\n",
    "new_df.dropna(inplace=True)\n",
    "# eliminate duplicate values\n",
    "new_df.drop_duplicates(inplace=True)\n",
    "# print(new_df)"
   ]
  },
  {
   "cell_type": "code",
   "execution_count": 18,
   "metadata": {},
   "outputs": [
    {
     "name": "stdout",
     "output_type": "stream",
     "text": [
      "Unnamed: 0             0\n",
      "car_name               0\n",
      "car_prices_in_rupee    0\n",
      "kms_driven             0\n",
      "fuel_type              0\n",
      "transmission           0\n",
      "ownership              0\n",
      "manufacture            0\n",
      "engine                 0\n",
      "Seats                  0\n",
      "dtype: int64\n",
      "Missing values distribution: \n",
      "Unnamed: 0             0.0\n",
      "car_name               0.0\n",
      "car_prices_in_rupee    0.0\n",
      "kms_driven             0.0\n",
      "fuel_type              0.0\n",
      "transmission           0.0\n",
      "ownership              0.0\n",
      "manufacture            0.0\n",
      "engine                 0.0\n",
      "Seats                  0.0\n",
      "dtype: float64\n"
     ]
    }
   ],
   "source": [
    "print(new_df.isnull().sum()) \n",
    "print(\"Missing values distribution: \")\n",
    "print(new_df.isnull().mean())"
   ]
  },
  {
   "cell_type": "code",
   "execution_count": 19,
   "metadata": {},
   "outputs": [],
   "source": [
    "new_df.to_csv(\"clean_car_price.csv\", index=False)"
   ]
  }
 ],
 "metadata": {
  "kernelspec": {
   "display_name": "Python 3 (ipykernel)",
   "language": "python",
   "name": "python3"
  },
  "language_info": {
   "codemirror_mode": {
    "name": "ipython",
    "version": 3
   },
   "file_extension": ".py",
   "mimetype": "text/x-python",
   "name": "python",
   "nbconvert_exporter": "python",
   "pygments_lexer": "ipython3",
   "version": "3.12.2"
  }
 },
 "nbformat": 4,
 "nbformat_minor": 4
}
